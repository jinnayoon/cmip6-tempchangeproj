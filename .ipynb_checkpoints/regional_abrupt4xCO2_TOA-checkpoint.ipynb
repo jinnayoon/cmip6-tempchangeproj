{
 "cells": [
  {
   "cell_type": "markdown",
   "id": "966987b4-b4a1-43a3-83b7-436ad0d267e5",
   "metadata": {},
   "source": [
    "## Task 2: Abrupt4xCO2 TOA Changes"
   ]
  },
  {
   "cell_type": "markdown",
   "id": "db11b044-c2e9-4dc3-a697-b45e19f19ca9",
   "metadata": {},
   "source": [
    "### Preprocessing Data"
   ]
  },
  {
   "cell_type": "code",
   "execution_count": 1,
   "id": "82cb5fd3-0d4a-4a4e-a218-47423ddfec01",
   "metadata": {},
   "outputs": [],
   "source": [
    "#imports\n",
    "from matplotlib import pyplot as plt\n",
    "from scipy import stats\n",
    "import numpy as np\n",
    "import pandas as pd\n",
    "import xarray as xr\n",
    "import zarr\n",
    "import gcsfs\n",
    "import cartopy\n",
    "import cartopy.crs as ccrs\n",
    "import cartopy.feature as cfeature"
   ]
  },
  {
   "cell_type": "code",
   "execution_count": 2,
   "id": "9a1613d9-bd6a-453f-8095-252201c71f80",
   "metadata": {},
   "outputs": [
    {
     "data": {
      "text/html": [
       "<div>\n",
       "<style scoped>\n",
       "    .dataframe tbody tr th:only-of-type {\n",
       "        vertical-align: middle;\n",
       "    }\n",
       "\n",
       "    .dataframe tbody tr th {\n",
       "        vertical-align: top;\n",
       "    }\n",
       "\n",
       "    .dataframe thead th {\n",
       "        text-align: right;\n",
       "    }\n",
       "</style>\n",
       "<table border=\"1\" class=\"dataframe\">\n",
       "  <thead>\n",
       "    <tr style=\"text-align: right;\">\n",
       "      <th></th>\n",
       "      <th>activity_id</th>\n",
       "      <th>institution_id</th>\n",
       "      <th>source_id</th>\n",
       "      <th>experiment_id</th>\n",
       "      <th>member_id</th>\n",
       "      <th>table_id</th>\n",
       "      <th>variable_id</th>\n",
       "      <th>grid_label</th>\n",
       "      <th>zstore</th>\n",
       "      <th>dcpp_init_year</th>\n",
       "      <th>version</th>\n",
       "    </tr>\n",
       "  </thead>\n",
       "  <tbody>\n",
       "    <tr>\n",
       "      <th>0</th>\n",
       "      <td>HighResMIP</td>\n",
       "      <td>CMCC</td>\n",
       "      <td>CMCC-CM2-HR4</td>\n",
       "      <td>highresSST-present</td>\n",
       "      <td>r1i1p1f1</td>\n",
       "      <td>Amon</td>\n",
       "      <td>ps</td>\n",
       "      <td>gn</td>\n",
       "      <td>gs://cmip6/CMIP6/HighResMIP/CMCC/CMCC-CM2-HR4/...</td>\n",
       "      <td>NaN</td>\n",
       "      <td>20170706</td>\n",
       "    </tr>\n",
       "    <tr>\n",
       "      <th>1</th>\n",
       "      <td>HighResMIP</td>\n",
       "      <td>CMCC</td>\n",
       "      <td>CMCC-CM2-HR4</td>\n",
       "      <td>highresSST-present</td>\n",
       "      <td>r1i1p1f1</td>\n",
       "      <td>Amon</td>\n",
       "      <td>rsds</td>\n",
       "      <td>gn</td>\n",
       "      <td>gs://cmip6/CMIP6/HighResMIP/CMCC/CMCC-CM2-HR4/...</td>\n",
       "      <td>NaN</td>\n",
       "      <td>20170706</td>\n",
       "    </tr>\n",
       "    <tr>\n",
       "      <th>2</th>\n",
       "      <td>HighResMIP</td>\n",
       "      <td>CMCC</td>\n",
       "      <td>CMCC-CM2-HR4</td>\n",
       "      <td>highresSST-present</td>\n",
       "      <td>r1i1p1f1</td>\n",
       "      <td>Amon</td>\n",
       "      <td>rlus</td>\n",
       "      <td>gn</td>\n",
       "      <td>gs://cmip6/CMIP6/HighResMIP/CMCC/CMCC-CM2-HR4/...</td>\n",
       "      <td>NaN</td>\n",
       "      <td>20170706</td>\n",
       "    </tr>\n",
       "    <tr>\n",
       "      <th>3</th>\n",
       "      <td>HighResMIP</td>\n",
       "      <td>CMCC</td>\n",
       "      <td>CMCC-CM2-HR4</td>\n",
       "      <td>highresSST-present</td>\n",
       "      <td>r1i1p1f1</td>\n",
       "      <td>Amon</td>\n",
       "      <td>rlds</td>\n",
       "      <td>gn</td>\n",
       "      <td>gs://cmip6/CMIP6/HighResMIP/CMCC/CMCC-CM2-HR4/...</td>\n",
       "      <td>NaN</td>\n",
       "      <td>20170706</td>\n",
       "    </tr>\n",
       "    <tr>\n",
       "      <th>4</th>\n",
       "      <td>HighResMIP</td>\n",
       "      <td>CMCC</td>\n",
       "      <td>CMCC-CM2-HR4</td>\n",
       "      <td>highresSST-present</td>\n",
       "      <td>r1i1p1f1</td>\n",
       "      <td>Amon</td>\n",
       "      <td>psl</td>\n",
       "      <td>gn</td>\n",
       "      <td>gs://cmip6/CMIP6/HighResMIP/CMCC/CMCC-CM2-HR4/...</td>\n",
       "      <td>NaN</td>\n",
       "      <td>20170706</td>\n",
       "    </tr>\n",
       "  </tbody>\n",
       "</table>\n",
       "</div>"
      ],
      "text/plain": [
       "  activity_id institution_id     source_id       experiment_id member_id  \\\n",
       "0  HighResMIP           CMCC  CMCC-CM2-HR4  highresSST-present  r1i1p1f1   \n",
       "1  HighResMIP           CMCC  CMCC-CM2-HR4  highresSST-present  r1i1p1f1   \n",
       "2  HighResMIP           CMCC  CMCC-CM2-HR4  highresSST-present  r1i1p1f1   \n",
       "3  HighResMIP           CMCC  CMCC-CM2-HR4  highresSST-present  r1i1p1f1   \n",
       "4  HighResMIP           CMCC  CMCC-CM2-HR4  highresSST-present  r1i1p1f1   \n",
       "\n",
       "  table_id variable_id grid_label  \\\n",
       "0     Amon          ps         gn   \n",
       "1     Amon        rsds         gn   \n",
       "2     Amon        rlus         gn   \n",
       "3     Amon        rlds         gn   \n",
       "4     Amon         psl         gn   \n",
       "\n",
       "                                              zstore  dcpp_init_year   version  \n",
       "0  gs://cmip6/CMIP6/HighResMIP/CMCC/CMCC-CM2-HR4/...             NaN  20170706  \n",
       "1  gs://cmip6/CMIP6/HighResMIP/CMCC/CMCC-CM2-HR4/...             NaN  20170706  \n",
       "2  gs://cmip6/CMIP6/HighResMIP/CMCC/CMCC-CM2-HR4/...             NaN  20170706  \n",
       "3  gs://cmip6/CMIP6/HighResMIP/CMCC/CMCC-CM2-HR4/...             NaN  20170706  \n",
       "4  gs://cmip6/CMIP6/HighResMIP/CMCC/CMCC-CM2-HR4/...             NaN  20170706  "
      ]
     },
     "execution_count": 2,
     "metadata": {},
     "output_type": "execute_result"
    }
   ],
   "source": [
    "df = pd.read_csv('https://storage.googleapis.com/cmip6/cmip6-zarr-consolidated-stores.csv')\n",
    "df.head()"
   ]
  },
  {
   "cell_type": "code",
   "execution_count": 3,
   "id": "6955fcd7-4c70-4cf5-ad9a-ae62f712faa9",
   "metadata": {},
   "outputs": [],
   "source": [
    "gcs = gcsfs.GCSFileSystem(token='anon')"
   ]
  },
  {
   "cell_type": "code",
   "execution_count": 4,
   "id": "f2ec6b94-eb51-4df4-a6ec-df4a67967696",
   "metadata": {},
   "outputs": [],
   "source": [
    "def load_zarr_dset(df):\n",
    "  # get the path to a specific zarr store (the first one from the dataframe above)\n",
    "  zstore = df.zstore.values[-1]\n",
    "\n",
    "  # create a mutable-mapping-style interface to the store\n",
    "  mapper = gcs.get_mapper(zstore)\n",
    "\n",
    "  # open it using xarray and zarr\n",
    "  ds = xr.open_zarr(mapper, consolidated=True)\n",
    "  return ds"
   ]
  },
  {
   "cell_type": "code",
   "execution_count": 5,
   "id": "3786af47-c82c-4408-9c76-ba7c9c25b692",
   "metadata": {},
   "outputs": [
    {
     "data": {
      "text/plain": [
       "DatetimeIndex(['1850-01-31', '1850-02-28', '1850-03-31', '1850-04-30',\n",
       "               '1850-05-31', '1850-06-30', '1850-07-31', '1850-08-31',\n",
       "               '1850-09-30', '1850-10-31',\n",
       "               ...\n",
       "               '1999-03-31', '1999-04-30', '1999-05-31', '1999-06-30',\n",
       "               '1999-07-31', '1999-08-31', '1999-09-30', '1999-10-31',\n",
       "               '1999-11-30', '1999-12-31'],\n",
       "              dtype='datetime64[ns]', length=1800, freq='ME')"
      ]
     },
     "execution_count": 5,
     "metadata": {},
     "output_type": "execute_result"
    }
   ],
   "source": [
    "#time index to assign abrupt4xCO2 model times to\n",
    "new_time_index_abrupt =pd.date_range('1850-01-01', '1999-12-31', freq='ME')\n",
    "new_time_index_abrupt "
   ]
  },
  {
   "cell_type": "code",
   "execution_count": 6,
   "id": "58294e8f-5e19-481d-80d4-f3cbdbd025dd",
   "metadata": {},
   "outputs": [
    {
     "name": "stdout",
     "output_type": "stream",
     "text": [
      "50\n"
     ]
    }
   ],
   "source": [
    "#query all models for toa radiation variables for abrupt-4xCO2\n",
    "#rlut\n",
    "df_abrupt4xCO2_toa_rlut = df.query(  \"activity_id=='CMIP'         & table_id == 'Amon' & variable_id == 'rlut' & experiment_id=='abrupt-4xCO2'\")\n",
    "#rsut\n",
    "df_abrupt4xCO2_toa_rsut = df.query(  \"activity_id=='CMIP'         & table_id == 'Amon' & variable_id == 'rsut' & experiment_id=='abrupt-4xCO2'\")\n",
    "#rsdt\n",
    "df_abrupt4xCO2_toa_rsdt = df.query(  \"activity_id=='CMIP'         & table_id == 'Amon' & variable_id == 'rsdt' & experiment_id=='abrupt-4xCO2'\")\n",
    "#models\n",
    "models_toa_abrupt4xCO2_rlut  = set(df_abrupt4xCO2_toa_rlut.source_id)\n",
    "models_toa_abrupt4xCO2_rsut  = set(df_abrupt4xCO2_toa_rsut.source_id)\n",
    "models_toa_abrupt4xCO2_rsdt  = set(df_abrupt4xCO2_toa_rsdt.source_id)\n",
    "\n",
    "#intersection of all of the models that have all radiation types\n",
    "source_set_abrupt4xCO2 = set.intersection(models_toa_abrupt4xCO2_rlut, models_toa_abrupt4xCO2_rsut, models_toa_abrupt4xCO2_rsdt)\n",
    "source_list_abrupt4xCO2 = list(source_set_abrupt4xCO2)\n",
    "print(len(source_set_abrupt4xCO2))"
   ]
  },
  {
   "cell_type": "code",
   "execution_count": 7,
   "id": "c5658f45-f32b-4f4e-a9dd-fcc4436f5a80",
   "metadata": {},
   "outputs": [
    {
     "name": "stdout",
     "output_type": "stream",
     "text": [
      "42\n"
     ]
    }
   ],
   "source": [
    "#query all models for toa radiation variables for abrupt-4xCO2 w/ r1i1p1f1\n",
    "#rlut\n",
    "df_abrupt4xCO2_toa_rlut = df.query(  \"activity_id=='CMIP' & member_id == 'r1i1p1f1' & table_id == 'Amon' & variable_id == 'rlut' & experiment_id=='abrupt-4xCO2'\")\n",
    "#rsut\n",
    "df_abrupt4xCO2_toa_rsut = df.query(  \"activity_id=='CMIP' & member_id == 'r1i1p1f1' & table_id == 'Amon' & variable_id == 'rsut' & experiment_id=='abrupt-4xCO2'\")\n",
    "#rsdt\n",
    "df_abrupt4xCO2_toa_rsdt = df.query(  \"activity_id=='CMIP' & member_id == 'r1i1p1f1' & table_id == 'Amon' & variable_id == 'rsdt' & experiment_id=='abrupt-4xCO2'\")\n",
    "#models\n",
    "models_toa_abrupt4xCO2_rlut  = set(df_abrupt4xCO2_toa_rlut.source_id)\n",
    "models_toa_abrupt4xCO2_rsut  = set(df_abrupt4xCO2_toa_rsut.source_id)\n",
    "models_toa_abrupt4xCO2_rsdt  = set(df_abrupt4xCO2_toa_rsdt.source_id)\n",
    "\n",
    "#intersection of all of the models that have all radiation types\n",
    "source_set_abrupt4xCO2_2 = set.intersection(models_toa_abrupt4xCO2_rlut, models_toa_abrupt4xCO2_rsut, models_toa_abrupt4xCO2_rsdt)\n",
    "source_list_abrupt4xCO2_2 = list(source_set_abrupt4xCO2_2)\n",
    "print(len(source_list_abrupt4xCO2_2))"
   ]
  },
  {
   "cell_type": "code",
   "execution_count": 8,
   "id": "a60244b9-8b4c-4707-90b1-ca3aa6ecfd27",
   "metadata": {},
   "outputs": [],
   "source": [
    "#remove models\n",
    "model_list = ['GISS-E2-1-H',\n",
    "              'INM-CM5-0',\n",
    "              'TaiESM1',\n",
    "             'KACE-1-0-G',\n",
    "              'GISS-E2-2-G',\n",
    "              'KIOST-ESM',\n",
    "              'NESM3',\n",
    "             'CMCC-ESM2',\n",
    "            'FIO-ESM-2-0',\n",
    "              'SAM0-UNICON',\n",
    "             'AWI-CM-1-1-MR',\n",
    "             'CanESM5',\n",
    "              'FGOALS-f3-L',\n",
    "              'GFDL-CM4',\n",
    "               'NorESM2-MM',\n",
    "               'CMCC-CM2-SR5',\n",
    "               'MPI-ESM-1-2-HAM',\n",
    "               'KACE-1-0-G',\n",
    "               'EC-Earth3-AerChem',\n",
    "               'CAMS-CSM1-0',\n",
    "               'FGOALS-g3',\n",
    "               'IITM-ESM',\n",
    "               'CIESM',\n",
    "               'CAS-ESM2-0'\n",
    "             ]\n"
   ]
  },
  {
   "cell_type": "code",
   "execution_count": 9,
   "id": "2e246774-5b18-4ec3-8435-fd0a474e3815",
   "metadata": {},
   "outputs": [
    {
     "name": "stdout",
     "output_type": "stream",
     "text": [
      "19\n",
      "['E3SM-1-0', 'GISS-E2-1-G', 'CESM2-FV2', 'ACCESS-ESM1-5', 'GFDL-ESM4', 'MRI-ESM2-0', 'MPI-ESM1-2-HR', 'CESM2', 'NorCPM1', 'CESM2-WACCM-FV2', 'INM-CM4-8', 'MIROC6', 'BCC-ESM1', 'CESM2-WACCM', 'IPSL-CM6A-LR', 'BCC-CSM2-MR', 'EC-Earth3-Veg', 'ACCESS-CM2', 'MPI-ESM1-2-LR']\n"
     ]
    }
   ],
   "source": [
    "for source in model_list:\n",
    "    if source in source_list_abrupt4xCO2_2:\n",
    "        source_list_abrupt4xCO2_2.remove(source)\n",
    "print(len(source_list_abrupt4xCO2_2))\n",
    "print(source_list_abrupt4xCO2_2)"
   ]
  },
  {
   "cell_type": "markdown",
   "id": "67e3811a-3e1c-48bc-908e-d5a57653bbfb",
   "metadata": {},
   "source": [
    "### 2.2 Multiple Models"
   ]
  },
  {
   "cell_type": "code",
   "execution_count": 10,
   "id": "919fc542-ed5d-4e4e-963e-53d350bfb871",
   "metadata": {},
   "outputs": [],
   "source": [
    "gcm_list = ['CESM2-WACCM', 'BCC-ESM1', 'CanESM5', 'GISS-E2-1-H', 'BCC-CSM2-MR']"
   ]
  },
  {
   "cell_type": "code",
   "execution_count": 11,
   "id": "4ae95a72-74ac-4c76-8029-50c0bf4d08fe",
   "metadata": {},
   "outputs": [],
   "source": [
    "#TOA dtarray of 5 GCM\n",
    "ds_list_abrupt_gcm = list()\n",
    "ds_list_piControl_gcm = list()\n",
    "for source in gcm_list:\n",
    "    #abrupt4xCO2 data\n",
    "    df_toa_abrupt4xCO2_rlut = df.query(\"activity_id =='CMIP' & source_id == @source & table_id == 'Amon' & variable_id == 'rlut' & experiment_id == 'abrupt-4xCO2' & member_id == 'r1i1p1f1'\")\n",
    "    df_toa_abrupt4xCO2_rsut = df.query(\"activity_id =='CMIP' & source_id == @source & table_id == 'Amon' & variable_id == 'rsut' & experiment_id == 'abrupt-4xCO2' & member_id == 'r1i1p1f1'\")\n",
    "    df_toa_abrupt4xCO2_rsdt = df.query(\"activity_id =='CMIP' & source_id == @source & table_id == 'Amon' & variable_id == 'rsdt' & experiment_id == 'abrupt-4xCO2' & member_id == 'r1i1p1f1'\")\n",
    "    df_toa_abrupt4xCO2_rlutcs = df.query(\"activity_id =='CMIP' & source_id == @source & table_id == 'Amon' & variable_id == 'rlutcs' & experiment_id == 'abrupt-4xCO2' & member_id == 'r1i1p1f1'\")\n",
    "    df_toa_abrupt4xCO2_rsutcs = df.query(\"activity_id =='CMIP' & source_id == @source & table_id == 'Amon' & variable_id == 'rsutcs' & experiment_id == 'abrupt-4xCO2' & member_id == 'r1i1p1f1'\")\n",
    "\n",
    "    #load abrupt4xCO2 data as dataset\n",
    "    ds_toa_abrupt4xCO2_rlut = load_zarr_dset(df_toa_abrupt4xCO2_rlut)\n",
    "    ds_toa_abrupt4xCO2_rsut = load_zarr_dset(df_toa_abrupt4xCO2_rsut)\n",
    "    ds_toa_abrupt4xCO2_rsdt = load_zarr_dset(df_toa_abrupt4xCO2_rsdt)\n",
    "    ds_toa_abrupt4xCO2_rlutcs = load_zarr_dset(df_toa_abrupt4xCO2_rlutcs)\n",
    "    ds_toa_abrupt4xCO2_rsutcs = load_zarr_dset(df_toa_abrupt4xCO2_rsutcs)\n",
    "\n",
    "    #toa and cre variable for abrupt4xCO2\n",
    "    ds_abrupt4xCO2_toa = ds_toa_abrupt4xCO2_rsdt.rsdt - ds_toa_abrupt4xCO2_rsut.rsut - ds_toa_abrupt4xCO2_rlut.rlut\n",
    "    ds_abrupt4xCO2_toacs = ds_toa_abrupt4xCO2_rsdt.rsdt - ds_toa_abrupt4xCO2_rlutcs.rlutcs - ds_toa_abrupt4xCO2_rsutcs.rsutcs\n",
    "    ds_abrupt4xCO2_cre = ds_abrupt4xCO2_toa - ds_abrupt4xCO2_toacs\n",
    "\n",
    "    #piControl data\n",
    "    df_toa_piControl_rlut = df.query(\"activity_id =='CMIP' & source_id == @source & table_id == 'Amon' & variable_id == 'rlut' & experiment_id == 'piControl' & member_id == 'r1i1p1f1'\")\n",
    "    df_toa_piControl_rsut = df.query(\"activity_id =='CMIP' & source_id == @source & table_id == 'Amon' & variable_id == 'rsut' & experiment_id == 'piControl' & member_id == 'r1i1p1f1'\")\n",
    "    df_toa_piControl_rsdt = df.query(\"activity_id =='CMIP' & source_id == @source & table_id == 'Amon' & variable_id == 'rsdt' & experiment_id == 'piControl' & member_id == 'r1i1p1f1'\")\n",
    "    df_toa_piControl_rlutcs = df.query(\"activity_id =='CMIP' & source_id == @source & table_id == 'Amon' & variable_id == 'rlutcs' & experiment_id == 'piControl' & member_id == 'r1i1p1f1'\")\n",
    "    df_toa_piControl_rsutcs = df.query(\"activity_id =='CMIP' & source_id == @source & table_id == 'Amon' & variable_id == 'rsutcs' & experiment_id == 'piControl' & member_id == 'r1i1p1f1'\")\n",
    "\n",
    "    #load piControl data as dataset\n",
    "    ds_toa_piControl_rlut = load_zarr_dset(df_toa_piControl_rlut)\n",
    "    ds_toa_piControl_rsut = load_zarr_dset(df_toa_piControl_rsut)\n",
    "    ds_toa_piControl_rsdt = load_zarr_dset(df_toa_piControl_rsdt)\n",
    "    ds_toa_piControl_rlutcs = load_zarr_dset(df_toa_piControl_rlutcs)\n",
    "    ds_toa_piControl_rsutcs = load_zarr_dset(df_toa_piControl_rsutcs)\n",
    "\n",
    "    #toa and cre variable for piControl\n",
    "    ds_piControl_toa = ds_toa_piControl_rsdt.rsdt - ds_toa_piControl_rsut.rsut - ds_toa_piControl_rlut.rlut\n",
    "    ds_piControl_toacs = ds_toa_piControl_rsdt.rsdt - ds_toa_piControl_rlutcs.rlutcs - ds_toa_piControl_rsutcs.rsutcs\n",
    "    ds_piControl_cre = ds_piControl_toa - ds_piControl_toacs\n"
   ]
  },
  {
   "cell_type": "code",
   "execution_count": null,
   "id": "d3af671a-9ef5-46bd-8c12-fae7b3470902",
   "metadata": {},
   "outputs": [],
   "source": []
  },
  {
   "cell_type": "code",
   "execution_count": null,
   "id": "f0a23b49-9a79-4cc3-be6c-b9ccb684980d",
   "metadata": {},
   "outputs": [],
   "source": []
  }
 ],
 "metadata": {
  "kernelspec": {
   "display_name": "Python 3 (ipykernel)",
   "language": "python",
   "name": "python3"
  },
  "language_info": {
   "codemirror_mode": {
    "name": "ipython",
    "version": 3
   },
   "file_extension": ".py",
   "mimetype": "text/x-python",
   "name": "python",
   "nbconvert_exporter": "python",
   "pygments_lexer": "ipython3",
   "version": "3.12.4"
  }
 },
 "nbformat": 4,
 "nbformat_minor": 5
}
