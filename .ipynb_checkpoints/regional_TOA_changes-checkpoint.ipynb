{
 "cells": [
  {
   "cell_type": "markdown",
   "id": "0d1c8fa2-6ad7-4df8-a0b6-4fce975da679",
   "metadata": {},
   "source": [
    "## Task 2: Regional TOA Changes"
   ]
  },
  {
   "cell_type": "markdown",
   "id": "b160fab5-4320-4239-b00d-05d2904bf305",
   "metadata": {},
   "source": [
    "### Preprocessing Data"
   ]
  },
  {
   "cell_type": "code",
   "execution_count": 2,
   "id": "9f886145-8fde-4914-aa8a-7b75541e366c",
   "metadata": {},
   "outputs": [],
   "source": [
    "#imports\n",
    "from matplotlib import pyplot as plt\n",
    "from scipy import stats\n",
    "import numpy as np\n",
    "import pandas as pd\n",
    "import xarray as xr\n",
    "import zarr\n",
    "import gcsfs\n",
    "import cartopy\n",
    "import cartopy.crs as ccrs\n",
    "import cartopy.feature as cfeature"
   ]
  },
  {
   "cell_type": "code",
   "execution_count": 4,
   "id": "a22ecee9-bf6e-40a1-a3e5-5be1ca449b29",
   "metadata": {},
   "outputs": [
    {
     "data": {
      "text/html": [
       "<div>\n",
       "<style scoped>\n",
       "    .dataframe tbody tr th:only-of-type {\n",
       "        vertical-align: middle;\n",
       "    }\n",
       "\n",
       "    .dataframe tbody tr th {\n",
       "        vertical-align: top;\n",
       "    }\n",
       "\n",
       "    .dataframe thead th {\n",
       "        text-align: right;\n",
       "    }\n",
       "</style>\n",
       "<table border=\"1\" class=\"dataframe\">\n",
       "  <thead>\n",
       "    <tr style=\"text-align: right;\">\n",
       "      <th></th>\n",
       "      <th>activity_id</th>\n",
       "      <th>institution_id</th>\n",
       "      <th>source_id</th>\n",
       "      <th>experiment_id</th>\n",
       "      <th>member_id</th>\n",
       "      <th>table_id</th>\n",
       "      <th>variable_id</th>\n",
       "      <th>grid_label</th>\n",
       "      <th>zstore</th>\n",
       "      <th>dcpp_init_year</th>\n",
       "      <th>version</th>\n",
       "    </tr>\n",
       "  </thead>\n",
       "  <tbody>\n",
       "    <tr>\n",
       "      <th>0</th>\n",
       "      <td>HighResMIP</td>\n",
       "      <td>CMCC</td>\n",
       "      <td>CMCC-CM2-HR4</td>\n",
       "      <td>highresSST-present</td>\n",
       "      <td>r1i1p1f1</td>\n",
       "      <td>Amon</td>\n",
       "      <td>ps</td>\n",
       "      <td>gn</td>\n",
       "      <td>gs://cmip6/CMIP6/HighResMIP/CMCC/CMCC-CM2-HR4/...</td>\n",
       "      <td>NaN</td>\n",
       "      <td>20170706</td>\n",
       "    </tr>\n",
       "    <tr>\n",
       "      <th>1</th>\n",
       "      <td>HighResMIP</td>\n",
       "      <td>CMCC</td>\n",
       "      <td>CMCC-CM2-HR4</td>\n",
       "      <td>highresSST-present</td>\n",
       "      <td>r1i1p1f1</td>\n",
       "      <td>Amon</td>\n",
       "      <td>rsds</td>\n",
       "      <td>gn</td>\n",
       "      <td>gs://cmip6/CMIP6/HighResMIP/CMCC/CMCC-CM2-HR4/...</td>\n",
       "      <td>NaN</td>\n",
       "      <td>20170706</td>\n",
       "    </tr>\n",
       "    <tr>\n",
       "      <th>2</th>\n",
       "      <td>HighResMIP</td>\n",
       "      <td>CMCC</td>\n",
       "      <td>CMCC-CM2-HR4</td>\n",
       "      <td>highresSST-present</td>\n",
       "      <td>r1i1p1f1</td>\n",
       "      <td>Amon</td>\n",
       "      <td>rlus</td>\n",
       "      <td>gn</td>\n",
       "      <td>gs://cmip6/CMIP6/HighResMIP/CMCC/CMCC-CM2-HR4/...</td>\n",
       "      <td>NaN</td>\n",
       "      <td>20170706</td>\n",
       "    </tr>\n",
       "    <tr>\n",
       "      <th>3</th>\n",
       "      <td>HighResMIP</td>\n",
       "      <td>CMCC</td>\n",
       "      <td>CMCC-CM2-HR4</td>\n",
       "      <td>highresSST-present</td>\n",
       "      <td>r1i1p1f1</td>\n",
       "      <td>Amon</td>\n",
       "      <td>rlds</td>\n",
       "      <td>gn</td>\n",
       "      <td>gs://cmip6/CMIP6/HighResMIP/CMCC/CMCC-CM2-HR4/...</td>\n",
       "      <td>NaN</td>\n",
       "      <td>20170706</td>\n",
       "    </tr>\n",
       "    <tr>\n",
       "      <th>4</th>\n",
       "      <td>HighResMIP</td>\n",
       "      <td>CMCC</td>\n",
       "      <td>CMCC-CM2-HR4</td>\n",
       "      <td>highresSST-present</td>\n",
       "      <td>r1i1p1f1</td>\n",
       "      <td>Amon</td>\n",
       "      <td>psl</td>\n",
       "      <td>gn</td>\n",
       "      <td>gs://cmip6/CMIP6/HighResMIP/CMCC/CMCC-CM2-HR4/...</td>\n",
       "      <td>NaN</td>\n",
       "      <td>20170706</td>\n",
       "    </tr>\n",
       "  </tbody>\n",
       "</table>\n",
       "</div>"
      ],
      "text/plain": [
       "  activity_id institution_id     source_id       experiment_id member_id  \\\n",
       "0  HighResMIP           CMCC  CMCC-CM2-HR4  highresSST-present  r1i1p1f1   \n",
       "1  HighResMIP           CMCC  CMCC-CM2-HR4  highresSST-present  r1i1p1f1   \n",
       "2  HighResMIP           CMCC  CMCC-CM2-HR4  highresSST-present  r1i1p1f1   \n",
       "3  HighResMIP           CMCC  CMCC-CM2-HR4  highresSST-present  r1i1p1f1   \n",
       "4  HighResMIP           CMCC  CMCC-CM2-HR4  highresSST-present  r1i1p1f1   \n",
       "\n",
       "  table_id variable_id grid_label  \\\n",
       "0     Amon          ps         gn   \n",
       "1     Amon        rsds         gn   \n",
       "2     Amon        rlus         gn   \n",
       "3     Amon        rlds         gn   \n",
       "4     Amon         psl         gn   \n",
       "\n",
       "                                              zstore  dcpp_init_year   version  \n",
       "0  gs://cmip6/CMIP6/HighResMIP/CMCC/CMCC-CM2-HR4/...             NaN  20170706  \n",
       "1  gs://cmip6/CMIP6/HighResMIP/CMCC/CMCC-CM2-HR4/...             NaN  20170706  \n",
       "2  gs://cmip6/CMIP6/HighResMIP/CMCC/CMCC-CM2-HR4/...             NaN  20170706  \n",
       "3  gs://cmip6/CMIP6/HighResMIP/CMCC/CMCC-CM2-HR4/...             NaN  20170706  \n",
       "4  gs://cmip6/CMIP6/HighResMIP/CMCC/CMCC-CM2-HR4/...             NaN  20170706  "
      ]
     },
     "execution_count": 4,
     "metadata": {},
     "output_type": "execute_result"
    }
   ],
   "source": [
    "df = pd.read_csv('https://storage.googleapis.com/cmip6/cmip6-zarr-consolidated-stores.csv')\n",
    "df.head()"
   ]
  },
  {
   "cell_type": "code",
   "execution_count": 5,
   "id": "0b932969-61f9-4c7c-bbff-c5e3eec669f5",
   "metadata": {},
   "outputs": [],
   "source": [
    "gcs = gcsfs.GCSFileSystem(token='anon')"
   ]
  },
  {
   "cell_type": "code",
   "execution_count": 7,
   "id": "7eb65020-03c3-4671-9c7f-dc525ed21e5a",
   "metadata": {},
   "outputs": [],
   "source": [
    "def load_zarr_dset(df):\n",
    "  # get the path to a specific zarr store (the first one from the dataframe above)\n",
    "  zstore = df.zstore.values[-1]\n",
    "\n",
    "  # create a mutable-mapping-style interface to the store\n",
    "  mapper = gcs.get_mapper(zstore)\n",
    "\n",
    "  # open it using xarray and zarr\n",
    "  ds = xr.open_zarr(mapper, consolidated=True)\n",
    "  return ds"
   ]
  },
  {
   "cell_type": "code",
   "execution_count": 6,
   "id": "e3efeb54-0607-4ff5-ac4a-3b03ff0bbcb7",
   "metadata": {},
   "outputs": [
    {
     "data": {
      "text/plain": [
       "DatetimeIndex(['1850-01-31', '1850-02-28', '1850-03-31', '1850-04-30',\n",
       "               '1850-05-31', '1850-06-30', '1850-07-31', '1850-08-31',\n",
       "               '1850-09-30', '1850-10-31',\n",
       "               ...\n",
       "               '2099-03-31', '2099-04-30', '2099-05-31', '2099-06-30',\n",
       "               '2099-07-31', '2099-08-31', '2099-09-30', '2099-10-31',\n",
       "               '2099-11-30', '2099-12-31'],\n",
       "              dtype='datetime64[ns]', length=3000, freq='ME')"
      ]
     },
     "execution_count": 6,
     "metadata": {},
     "output_type": "execute_result"
    }
   ],
   "source": [
    "#time index for hist+ssp585\n",
    "new_time_index_hist_ssp = pd.date_range('1850-01-01', '2099-12-31', freq = 'ME')\n",
    "new_time_index_hist_ssp"
   ]
  },
  {
   "cell_type": "code",
   "execution_count": 11,
   "id": "bd1fe7c5-fc77-486f-8da3-44666379c132",
   "metadata": {},
   "outputs": [],
   "source": [
    "#regrid to common 1x1 grid\n",
    "new_lats=np.arange(-87,88)\n",
    "new_lons=np.arange(1,359)"
   ]
  },
  {
   "cell_type": "code",
   "execution_count": 8,
   "id": "e35043fe-ec4a-4dd6-8387-71546c3866df",
   "metadata": {},
   "outputs": [
    {
     "name": "stdout",
     "output_type": "stream",
     "text": [
      "31\n"
     ]
    }
   ],
   "source": [
    "#rlut\n",
    "df_hist_toa_rlut = df.query(  \"activity_id=='CMIP'         & table_id == 'Amon' & variable_id == 'rlut' & experiment_id=='historical' & member_id == 'r1i1p1f1'\")\n",
    "df_ssp585_toa_rlut = df.query(\"activity_id=='ScenarioMIP'  & table_id == 'Amon' & variable_id == 'rlut' & experiment_id=='ssp585' & member_id == 'r1i1p1f1'\")\n",
    "#rsut\n",
    "df_hist_toa_rsut = df.query(  \"activity_id=='CMIP'         & table_id == 'Amon' & variable_id == 'rsut' & experiment_id=='historical' & member_id == 'r1i1p1f1'\")\n",
    "df_ssp585_toa_rsut = df.query(\"activity_id=='ScenarioMIP'  & table_id == 'Amon' & variable_id == 'rsut' & experiment_id=='ssp585' & member_id == 'r1i1p1f1'\")\n",
    "#rsdt\n",
    "df_hist_toa_rsdt = df.query(  \"activity_id=='CMIP'         & table_id == 'Amon' & variable_id == 'rsdt' & experiment_id=='historical' & member_id == 'r1i1p1f1'\")\n",
    "df_ssp585_toa_rsdt = df.query(\"activity_id=='ScenarioMIP'  & table_id == 'Amon' & variable_id == 'rsdt' & experiment_id=='ssp585' & member_id == 'r1i1p1f1'\")\n",
    "#models\n",
    "models_toa_hist_rlut  =set(df_hist_toa_rlut.source_id)\n",
    "models_toa_hist_rsut  =set(df_hist_toa_rsut.source_id)\n",
    "models_toa_hist_rsdt  =set(df_hist_toa_rsdt.source_id) # all models that have toa in the historical simulations\n",
    "models_toa_ssp585_rlut=set(df_ssp585_toa_rlut.source_id) #all models that have toa in the ssp585 simulations\n",
    "models_toa_ssp585_rsut=set(df_ssp585_toa_rsut.source_id)\n",
    "models_toa_ssp585_rsdt=set(df_ssp585_toa_rsdt.source_id)\n",
    "\n",
    "#intersection of all of the models that have all radiation types\n",
    "source_set_toa_2 = set.intersection(models_toa_hist_rlut, models_toa_hist_rsut, models_toa_hist_rsdt, models_toa_ssp585_rlut, models_toa_ssp585_rsut, models_toa_ssp585_rsdt)\n",
    "source_list_toa_2 = list(source_set_toa_2)\n",
    "print(len(source_list_toa_2))"
   ]
  },
  {
   "cell_type": "code",
   "execution_count": 9,
   "id": "2f6c7029-1120-4949-997f-1fc9817a644f",
   "metadata": {},
   "outputs": [],
   "source": [
    "#remove models\n",
    "model_list = ['E3SM-1-1',\n",
    "               'TaiESM1',\n",
    "               'CIESM',\n",
    "              'KIOST-ESM',\n",
    "               'INM-CM5-0',\n",
    "               'FGOALS-f3-L',\n",
    "               'CMCC-CM2-SR5',\n",
    "               'EC-Earth3-Veg-LR',\n",
    "               'FIO-ESM-2-0',\n",
    "               'IITM-ESM',\n",
    "               'NESM3']"
   ]
  },
  {
   "cell_type": "code",
   "execution_count": 10,
   "id": "6ff648df-0ef3-431d-b1b5-b4f361cc2a2a",
   "metadata": {},
   "outputs": [
    {
     "name": "stdout",
     "output_type": "stream",
     "text": [
      "20\n",
      "['CESM2-WACCM', 'IPSL-CM6A-LR', 'AWI-CM-1-1-MR', 'INM-CM4-8', 'FGOALS-g3', 'MIROC6', 'KACE-1-0-G', 'ACCESS-CM2', 'GFDL-CM4', 'NorESM2-LM', 'MRI-ESM2-0', 'EC-Earth3', 'MPI-ESM1-2-HR', 'GFDL-ESM4', 'CanESM5', 'MPI-ESM1-2-LR', 'BCC-CSM2-MR', 'EC-Earth3-Veg', 'NorESM2-MM', 'CAMS-CSM1-0']\n"
     ]
    }
   ],
   "source": [
    "for source in model_list:\n",
    "    if source in source_list_toa_2:\n",
    "        source_list_toa_2.remove(source)\n",
    "print(len(source_list_toa_2))\n",
    "print(source_list_toa_2)"
   ]
  },
  {
   "cell_type": "code",
   "execution_count": null,
   "id": "9a3d90bf-f7bd-4f0b-ade5-f72cdebc802e",
   "metadata": {},
   "outputs": [],
   "source": []
  }
 ],
 "metadata": {
  "kernelspec": {
   "display_name": "Python 3 (ipykernel)",
   "language": "python",
   "name": "python3"
  },
  "language_info": {
   "codemirror_mode": {
    "name": "ipython",
    "version": 3
   },
   "file_extension": ".py",
   "mimetype": "text/x-python",
   "name": "python",
   "nbconvert_exporter": "python",
   "pygments_lexer": "ipython3",
   "version": "3.12.4"
  }
 },
 "nbformat": 4,
 "nbformat_minor": 5
}
