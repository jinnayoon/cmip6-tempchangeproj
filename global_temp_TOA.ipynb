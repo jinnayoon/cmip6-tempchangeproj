{
 "cells": [
  {
   "cell_type": "markdown",
   "id": "3c28096a-dbe4-4174-87c6-c8dfa565f9a7",
   "metadata": {},
   "source": [
    "## Preprocessing Global TOA Data"
   ]
  },
  {
   "cell_type": "markdown",
   "id": "61ccbcd0-32f8-4d62-a104-45308f3b4730",
   "metadata": {},
   "source": [
    "We want the data needed to compute climate sensitivity, radiative forcing, and radiative feedbacks."
   ]
  },
  {
   "cell_type": "code",
   "execution_count": 2,
   "id": "909c5053-fe66-455a-bd01-1e985acf6b3b",
   "metadata": {},
   "outputs": [],
   "source": [
    "#imports\n",
    "from matplotlib import pyplot as plt\n",
    "from matplotlib.lines import Line2D \n",
    "from scipy import stats\n",
    "import cftime\n",
    "import numpy as np\n",
    "import pandas as pd\n",
    "import xarray as xr\n",
    "import zarr\n",
    "import gcsfs\n",
    "import cartopy\n",
    "import cartopy.crs as ccrs\n",
    "import cartopy.feature as cfeature"
   ]
  },
  {
   "cell_type": "code",
   "execution_count": 3,
   "id": "60ad52bb-7b1b-4f0b-9380-6606534e6f95",
   "metadata": {},
   "outputs": [
    {
     "data": {
      "text/html": [
       "<div>\n",
       "<style scoped>\n",
       "    .dataframe tbody tr th:only-of-type {\n",
       "        vertical-align: middle;\n",
       "    }\n",
       "\n",
       "    .dataframe tbody tr th {\n",
       "        vertical-align: top;\n",
       "    }\n",
       "\n",
       "    .dataframe thead th {\n",
       "        text-align: right;\n",
       "    }\n",
       "</style>\n",
       "<table border=\"1\" class=\"dataframe\">\n",
       "  <thead>\n",
       "    <tr style=\"text-align: right;\">\n",
       "      <th></th>\n",
       "      <th>activity_id</th>\n",
       "      <th>institution_id</th>\n",
       "      <th>source_id</th>\n",
       "      <th>experiment_id</th>\n",
       "      <th>member_id</th>\n",
       "      <th>table_id</th>\n",
       "      <th>variable_id</th>\n",
       "      <th>grid_label</th>\n",
       "      <th>zstore</th>\n",
       "      <th>dcpp_init_year</th>\n",
       "      <th>version</th>\n",
       "    </tr>\n",
       "  </thead>\n",
       "  <tbody>\n",
       "    <tr>\n",
       "      <th>0</th>\n",
       "      <td>HighResMIP</td>\n",
       "      <td>CMCC</td>\n",
       "      <td>CMCC-CM2-HR4</td>\n",
       "      <td>highresSST-present</td>\n",
       "      <td>r1i1p1f1</td>\n",
       "      <td>Amon</td>\n",
       "      <td>ps</td>\n",
       "      <td>gn</td>\n",
       "      <td>gs://cmip6/CMIP6/HighResMIP/CMCC/CMCC-CM2-HR4/...</td>\n",
       "      <td>NaN</td>\n",
       "      <td>20170706</td>\n",
       "    </tr>\n",
       "    <tr>\n",
       "      <th>1</th>\n",
       "      <td>HighResMIP</td>\n",
       "      <td>CMCC</td>\n",
       "      <td>CMCC-CM2-HR4</td>\n",
       "      <td>highresSST-present</td>\n",
       "      <td>r1i1p1f1</td>\n",
       "      <td>Amon</td>\n",
       "      <td>rsds</td>\n",
       "      <td>gn</td>\n",
       "      <td>gs://cmip6/CMIP6/HighResMIP/CMCC/CMCC-CM2-HR4/...</td>\n",
       "      <td>NaN</td>\n",
       "      <td>20170706</td>\n",
       "    </tr>\n",
       "    <tr>\n",
       "      <th>2</th>\n",
       "      <td>HighResMIP</td>\n",
       "      <td>CMCC</td>\n",
       "      <td>CMCC-CM2-HR4</td>\n",
       "      <td>highresSST-present</td>\n",
       "      <td>r1i1p1f1</td>\n",
       "      <td>Amon</td>\n",
       "      <td>rlus</td>\n",
       "      <td>gn</td>\n",
       "      <td>gs://cmip6/CMIP6/HighResMIP/CMCC/CMCC-CM2-HR4/...</td>\n",
       "      <td>NaN</td>\n",
       "      <td>20170706</td>\n",
       "    </tr>\n",
       "    <tr>\n",
       "      <th>3</th>\n",
       "      <td>HighResMIP</td>\n",
       "      <td>CMCC</td>\n",
       "      <td>CMCC-CM2-HR4</td>\n",
       "      <td>highresSST-present</td>\n",
       "      <td>r1i1p1f1</td>\n",
       "      <td>Amon</td>\n",
       "      <td>rlds</td>\n",
       "      <td>gn</td>\n",
       "      <td>gs://cmip6/CMIP6/HighResMIP/CMCC/CMCC-CM2-HR4/...</td>\n",
       "      <td>NaN</td>\n",
       "      <td>20170706</td>\n",
       "    </tr>\n",
       "    <tr>\n",
       "      <th>4</th>\n",
       "      <td>HighResMIP</td>\n",
       "      <td>CMCC</td>\n",
       "      <td>CMCC-CM2-HR4</td>\n",
       "      <td>highresSST-present</td>\n",
       "      <td>r1i1p1f1</td>\n",
       "      <td>Amon</td>\n",
       "      <td>psl</td>\n",
       "      <td>gn</td>\n",
       "      <td>gs://cmip6/CMIP6/HighResMIP/CMCC/CMCC-CM2-HR4/...</td>\n",
       "      <td>NaN</td>\n",
       "      <td>20170706</td>\n",
       "    </tr>\n",
       "  </tbody>\n",
       "</table>\n",
       "</div>"
      ],
      "text/plain": [
       "  activity_id institution_id     source_id       experiment_id member_id  \\\n",
       "0  HighResMIP           CMCC  CMCC-CM2-HR4  highresSST-present  r1i1p1f1   \n",
       "1  HighResMIP           CMCC  CMCC-CM2-HR4  highresSST-present  r1i1p1f1   \n",
       "2  HighResMIP           CMCC  CMCC-CM2-HR4  highresSST-present  r1i1p1f1   \n",
       "3  HighResMIP           CMCC  CMCC-CM2-HR4  highresSST-present  r1i1p1f1   \n",
       "4  HighResMIP           CMCC  CMCC-CM2-HR4  highresSST-present  r1i1p1f1   \n",
       "\n",
       "  table_id variable_id grid_label  \\\n",
       "0     Amon          ps         gn   \n",
       "1     Amon        rsds         gn   \n",
       "2     Amon        rlus         gn   \n",
       "3     Amon        rlds         gn   \n",
       "4     Amon         psl         gn   \n",
       "\n",
       "                                              zstore  dcpp_init_year   version  \n",
       "0  gs://cmip6/CMIP6/HighResMIP/CMCC/CMCC-CM2-HR4/...             NaN  20170706  \n",
       "1  gs://cmip6/CMIP6/HighResMIP/CMCC/CMCC-CM2-HR4/...             NaN  20170706  \n",
       "2  gs://cmip6/CMIP6/HighResMIP/CMCC/CMCC-CM2-HR4/...             NaN  20170706  \n",
       "3  gs://cmip6/CMIP6/HighResMIP/CMCC/CMCC-CM2-HR4/...             NaN  20170706  \n",
       "4  gs://cmip6/CMIP6/HighResMIP/CMCC/CMCC-CM2-HR4/...             NaN  20170706  "
      ]
     },
     "execution_count": 3,
     "metadata": {},
     "output_type": "execute_result"
    }
   ],
   "source": [
    "df = pd.read_csv('https://storage.googleapis.com/cmip6/cmip6-zarr-consolidated-stores.csv')\n",
    "df.head()"
   ]
  },
  {
   "cell_type": "code",
   "execution_count": 4,
   "id": "e75c008c-1503-4066-9690-d5299e5a1f71",
   "metadata": {},
   "outputs": [],
   "source": [
    "gcs = gcsfs.GCSFileSystem(token='anon')"
   ]
  },
  {
   "cell_type": "code",
   "execution_count": 5,
   "id": "88e60c5a-4ec6-408b-a9a7-cc2dc2a2720a",
   "metadata": {},
   "outputs": [],
   "source": [
    "def load_zarr_dset(df):\n",
    "  # get the path to a specific zarr store (the first one from the dataframe above)\n",
    "  zstore = df.zstore.values[-1]\n",
    "\n",
    "  # create a mutable-mapping-style interface to the store\n",
    "  mapper = gcs.get_mapper(zstore)\n",
    "\n",
    "  # open it using xarray and zarr\n",
    "  ds = xr.open_zarr(mapper, consolidated=True)\n",
    "  return ds"
   ]
  },
  {
   "cell_type": "code",
   "execution_count": 6,
   "id": "873a1028-aa47-46e9-9786-8a72b5af5e32",
   "metadata": {},
   "outputs": [
    {
     "data": {
      "text/plain": [
       "DatetimeIndex(['1850-01-31', '1850-02-28', '1850-03-31', '1850-04-30',\n",
       "               '1850-05-31', '1850-06-30', '1850-07-31', '1850-08-31',\n",
       "               '1850-09-30', '1850-10-31',\n",
       "               ...\n",
       "               '2099-03-31', '2099-04-30', '2099-05-31', '2099-06-30',\n",
       "               '2099-07-31', '2099-08-31', '2099-09-30', '2099-10-31',\n",
       "               '2099-11-30', '2099-12-31'],\n",
       "              dtype='datetime64[ns]', length=3000, freq='ME')"
      ]
     },
     "execution_count": 6,
     "metadata": {},
     "output_type": "execute_result"
    }
   ],
   "source": [
    "#time index to assign model times to\n",
    "new_time_index=pd.date_range('1850-01-01', '2099-12-31', freq='ME')\n",
    "new_time_index"
   ]
  },
  {
   "cell_type": "code",
   "execution_count": 7,
   "id": "04f5c7a1-2f76-42e1-95d6-8582ea144a57",
   "metadata": {},
   "outputs": [
    {
     "name": "stdout",
     "output_type": "stream",
     "text": [
      "31\n"
     ]
    }
   ],
   "source": [
    "#rlut\n",
    "df_hist_toa_rlut = df.query(  \"activity_id=='CMIP'         & table_id == 'Amon' & variable_id == 'rlut' & experiment_id=='historical' & member_id == 'r1i1p1f1'\")\n",
    "df_ssp585_toa_rlut = df.query(\"activity_id=='ScenarioMIP'  & table_id == 'Amon' & variable_id == 'rlut' & experiment_id=='ssp585' & member_id == 'r1i1p1f1'\")\n",
    "#rsut\n",
    "df_hist_toa_rsut = df.query(  \"activity_id=='CMIP'         & table_id == 'Amon' & variable_id == 'rsut' & experiment_id=='historical' & member_id == 'r1i1p1f1'\")\n",
    "df_ssp585_toa_rsut = df.query(\"activity_id=='ScenarioMIP'  & table_id == 'Amon' & variable_id == 'rsut' & experiment_id=='ssp585' & member_id == 'r1i1p1f1'\")\n",
    "#rsdt\n",
    "df_hist_toa_rsdt = df.query(  \"activity_id=='CMIP'         & table_id == 'Amon' & variable_id == 'rsdt' & experiment_id=='historical' & member_id == 'r1i1p1f1'\")\n",
    "df_ssp585_toa_rsdt = df.query(\"activity_id=='ScenarioMIP'  & table_id == 'Amon' & variable_id == 'rsdt' & experiment_id=='ssp585' & member_id == 'r1i1p1f1'\")\n",
    "#models\n",
    "models_toa_hist_rlut  =set(df_hist_toa_rlut.source_id)\n",
    "models_toa_hist_rsut  =set(df_hist_toa_rsut.source_id)\n",
    "models_toa_hist_rsdt  =set(df_hist_toa_rsdt.source_id) # all models that have toa in the historical simulations\n",
    "models_toa_ssp585_rlut=set(df_ssp585_toa_rlut.source_id) #all models that have toa in the ssp585 simulations\n",
    "models_toa_ssp585_rsut=set(df_ssp585_toa_rsut.source_id)\n",
    "models_toa_ssp585_rsdt=set(df_ssp585_toa_rsdt.source_id)\n",
    "\n",
    "#intersection of all of the models that have all radiation types\n",
    "source_set_toa_2 = set.intersection(models_toa_hist_rlut, models_toa_hist_rsut, models_toa_hist_rsdt, models_toa_ssp585_rlut, models_toa_ssp585_rsut, models_toa_ssp585_rsdt)\n",
    "source_list_toa_2 = list(source_set_toa_2)\n",
    "print(len(source_list_toa_2))"
   ]
  },
  {
   "cell_type": "code",
   "execution_count": 8,
   "id": "7fb812dd-359f-4a57-908f-48b0f3b41b92",
   "metadata": {},
   "outputs": [
    {
     "name": "stdout",
     "output_type": "stream",
     "text": [
      "['ACCESS-CM2', 'MIROC6', 'IITM-ESM', 'CanESM5', 'EC-Earth3-Veg', 'INM-CM5-0', 'GFDL-ESM4', 'EC-Earth3-Veg-LR', 'BCC-CSM2-MR', 'CMCC-CM2-SR5', 'KACE-1-0-G', 'NESM3', 'NorESM2-LM', 'INM-CM4-8', 'AWI-CM-1-1-MR', 'MRI-ESM2-0', 'IPSL-CM6A-LR', 'FGOALS-g3', 'FGOALS-f3-L', 'NorESM2-MM', 'TaiESM1', 'CESM2-WACCM', 'EC-Earth3', 'E3SM-1-1', 'FIO-ESM-2-0', 'MPI-ESM1-2-LR', 'GFDL-CM4', 'CAMS-CSM1-0', 'CIESM', 'MPI-ESM1-2-HR', 'KIOST-ESM']\n"
     ]
    }
   ],
   "source": [
    "print(source_list_toa_2)"
   ]
  },
  {
   "cell_type": "markdown",
   "id": "cc8723ad-1628-413b-9131-0b27d1f73a0c",
   "metadata": {},
   "source": [
    "### 1.1 Look at One Model"
   ]
  },
  {
   "cell_type": "code",
   "execution_count": 12,
   "id": "ad05bcfa-63ee-4e6f-87e7-2e863b7b76db",
   "metadata": {},
   "outputs": [
    {
     "name": "stdout",
     "output_type": "stream",
     "text": [
      "<xarray.DataArray (time: 5940, lat: 64, lon: 128)>\n",
      "dask.array<sub, shape=(5940, 64, 128), dtype=float32, chunksize=(780, 64, 128), chunktype=numpy.ndarray>\n",
      "Coordinates:\n",
      "  * lat      (lat) float64 -87.86 -85.1 -82.31 -79.53 ... 79.53 82.31 85.1 87.86\n",
      "  * lon      (lon) float64 0.0 2.812 5.625 8.438 ... 348.8 351.6 354.4 357.2\n",
      "  * time     (time) object 1850-01-16 12:00:00 ... 2014-12-16 12:00:00\n"
     ]
    }
   ],
   "source": [
    "#query data\n",
    "#historical data\n",
    "df_toa_hist_canesm5_rlut = df.query(  \"activity_id=='CMIP' & source_id == 'CanESM5' & table_id == 'Amon' & variable_id == 'rlut' & experiment_id=='historical' & member_id == 'r1i1p1f1'\")\n",
    "df_toa_hist_canesm5_rsut = df.query(  \"activity_id=='CMIP' & source_id == 'CanESM5' & table_id == 'Amon' & variable_id == 'rsut' & experiment_id=='historical' & member_id == 'r1i1p1f1'\")\n",
    "df_toa_hist_canesm5_rsdt = df.query(  \"activity_id=='CMIP' & source_id == 'CanESM5' & table_id == 'Amon' & variable_id == 'rsdt' & experiment_id=='historical' & member_id == 'r1i1p1f1'\")\n",
    "ds_toa_hist_canesm5_rlut = load_zarr_dset(df_toa_hist_canesm5_rlut)\n",
    "ds_toa_hist_canesm5_rsut = load_zarr_dset(df_toa_hist_canesm5_rsut)\n",
    "ds_toa_hist_canesm5_rsdt = load_zarr_dset(df_toa_hist_canesm5_rsdt)\n",
    "ds_toa_hist_canesm5 = xr.concat([ds_toa_hist_canesm5_rlut, ds_toa_hist_canesm5_rsut, ds_toa_hist_canesm5_rsdt], dim = ('time'), coords = 'all', compat = 'override')\n",
    "#ssp585 data\n",
    "df_toa_ssp585_canesm5_rlut = df.query(\"activity_id=='ScenarioMIP' & source_id == 'CanESM5' & table_id == 'Amon' & variable_id == 'rlut' & experiment_id=='ssp585' & member_id == 'r1i1p1f1'\")\n",
    "df_toa_ssp585_canesm5_rsut = df.query(\"activity_id=='ScenarioMIP' & source_id == 'CanESM5' & table_id == 'Amon' & variable_id == 'rsut' & experiment_id=='ssp585' & member_id == 'r1i1p1f1'\")\n",
    "df_toa_ssp585_canesm5_rsdt = df.query(\"activity_id=='ScenarioMIP' & source_id == 'CanESM5' & table_id == 'Amon' & variable_id == 'rsdt' & experiment_id=='ssp585' & member_id == 'r1i1p1f1'\")\n",
    "ds_toa_ssp585_canesm5_rlut = load_zarr_dset(df_toa_ssp585_canesm5_rlut)\n",
    "ds_toa_ssp585_canesm5_rsut = load_zarr_dset(df_toa_ssp585_canesm5_rsut)\n",
    "ds_toa_ssp585_canesm5_rsdt = load_zarr_dset(df_toa_ssp585_canesm5_rsdt)\n",
    "ds_toa_ssp585_canesm5 = xr.concat([ds_toa_ssp585_canesm5_rlut, ds_toa_ssp585_canesm5_rsut, ds_toa_ssp585_canesm5_rsdt], dim = ('time'), coords = 'all', compat = 'override')\n",
    "\n",
    "#load toa data\n",
    "hist_toa_canesm5 = ds_toa_hist_canesm5.rsdt - ds_toa_hist_canesm5.rsut - ds_toa_hist_canesm5.rlut\n",
    "ssp585_toa_canesm5 = ds_toa_ssp585_canesm5.rsdt - ds_toa_ssp585_canesm5.rsut - ds_toa_ssp585_canesm5.rlut\n",
    "print(hist_toa_canesm5)\n",
    "#need to create a toa variable (assign coordinate and then put operation in argument?)\n",
    "ds_all_canesm5 = xr.concat([hist_toa_canesm5, ssp585_toa_canesm5], dim = 'time', coords = 'all', compat = 'override')\n",
    "#ds_all_canesm5\n",
    "#weights\n",
    "#weights = np.cos(np.deg2rad(ds_all_canesm5.t\n",
    "#slice to specific period and reassign new time index\n",
    "ds_all_canesm5 = ds_all_canesm5.isel(time=slice(0,3000))"
   ]
  },
  {
   "cell_type": "code",
   "execution_count": null,
   "id": "aa4e6780-7576-4051-a195-f23d1ae98c1f",
   "metadata": {},
   "outputs": [],
   "source": []
  },
  {
   "cell_type": "code",
   "execution_count": null,
   "id": "da5b9f70-bdf3-47e0-bd53-fb3eea15437d",
   "metadata": {},
   "outputs": [],
   "source": []
  },
  {
   "cell_type": "code",
   "execution_count": null,
   "id": "deaa37e7-28a2-4bda-b37c-7af8a8598b67",
   "metadata": {},
   "outputs": [],
   "source": []
  }
 ],
 "metadata": {
  "kernelspec": {
   "display_name": "Python 3 (ipykernel)",
   "language": "python",
   "name": "python3"
  },
  "language_info": {
   "codemirror_mode": {
    "name": "ipython",
    "version": 3
   },
   "file_extension": ".py",
   "mimetype": "text/x-python",
   "name": "python",
   "nbconvert_exporter": "python",
   "pygments_lexer": "ipython3",
   "version": "3.12.4"
  }
 },
 "nbformat": 4,
 "nbformat_minor": 5
}
