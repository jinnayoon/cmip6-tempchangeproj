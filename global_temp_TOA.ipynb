{
 "cells": [
  {
   "cell_type": "markdown",
   "id": "3c28096a-dbe4-4174-87c6-c8dfa565f9a7",
   "metadata": {},
   "source": [
    "## Preprocessing Global TOA Data"
   ]
  },
  {
   "cell_type": "markdown",
   "id": "61ccbcd0-32f8-4d62-a104-45308f3b4730",
   "metadata": {},
   "source": [
    "Preprocessing global TOA data for historical and ssp585 simulations.\n",
    "\n",
    "Notes: We want the data needed to compute climate sensitivity, radiative forcing, and radiative feedbacks."
   ]
  },
  {
   "cell_type": "code",
   "execution_count": 1,
   "id": "909c5053-fe66-455a-bd01-1e985acf6b3b",
   "metadata": {},
   "outputs": [],
   "source": [
    "#imports\n",
    "from matplotlib import pyplot as plt\n",
    "from matplotlib.lines import Line2D \n",
    "from scipy import stats\n",
    "import cftime\n",
    "import numpy as np\n",
    "import pandas as pd\n",
    "import xarray as xr\n",
    "import zarr\n",
    "import gcsfs\n",
    "import cartopy\n",
    "import cartopy.crs as ccrs\n",
    "import cartopy.feature as cfeature"
   ]
  },
  {
   "cell_type": "code",
   "execution_count": 2,
   "id": "60ad52bb-7b1b-4f0b-9380-6606534e6f95",
   "metadata": {},
   "outputs": [
    {
     "data": {
      "text/html": [
       "<div>\n",
       "<style scoped>\n",
       "    .dataframe tbody tr th:only-of-type {\n",
       "        vertical-align: middle;\n",
       "    }\n",
       "\n",
       "    .dataframe tbody tr th {\n",
       "        vertical-align: top;\n",
       "    }\n",
       "\n",
       "    .dataframe thead th {\n",
       "        text-align: right;\n",
       "    }\n",
       "</style>\n",
       "<table border=\"1\" class=\"dataframe\">\n",
       "  <thead>\n",
       "    <tr style=\"text-align: right;\">\n",
       "      <th></th>\n",
       "      <th>activity_id</th>\n",
       "      <th>institution_id</th>\n",
       "      <th>source_id</th>\n",
       "      <th>experiment_id</th>\n",
       "      <th>member_id</th>\n",
       "      <th>table_id</th>\n",
       "      <th>variable_id</th>\n",
       "      <th>grid_label</th>\n",
       "      <th>zstore</th>\n",
       "      <th>dcpp_init_year</th>\n",
       "      <th>version</th>\n",
       "    </tr>\n",
       "  </thead>\n",
       "  <tbody>\n",
       "    <tr>\n",
       "      <th>0</th>\n",
       "      <td>HighResMIP</td>\n",
       "      <td>CMCC</td>\n",
       "      <td>CMCC-CM2-HR4</td>\n",
       "      <td>highresSST-present</td>\n",
       "      <td>r1i1p1f1</td>\n",
       "      <td>Amon</td>\n",
       "      <td>ps</td>\n",
       "      <td>gn</td>\n",
       "      <td>gs://cmip6/CMIP6/HighResMIP/CMCC/CMCC-CM2-HR4/...</td>\n",
       "      <td>NaN</td>\n",
       "      <td>20170706</td>\n",
       "    </tr>\n",
       "    <tr>\n",
       "      <th>1</th>\n",
       "      <td>HighResMIP</td>\n",
       "      <td>CMCC</td>\n",
       "      <td>CMCC-CM2-HR4</td>\n",
       "      <td>highresSST-present</td>\n",
       "      <td>r1i1p1f1</td>\n",
       "      <td>Amon</td>\n",
       "      <td>rsds</td>\n",
       "      <td>gn</td>\n",
       "      <td>gs://cmip6/CMIP6/HighResMIP/CMCC/CMCC-CM2-HR4/...</td>\n",
       "      <td>NaN</td>\n",
       "      <td>20170706</td>\n",
       "    </tr>\n",
       "    <tr>\n",
       "      <th>2</th>\n",
       "      <td>HighResMIP</td>\n",
       "      <td>CMCC</td>\n",
       "      <td>CMCC-CM2-HR4</td>\n",
       "      <td>highresSST-present</td>\n",
       "      <td>r1i1p1f1</td>\n",
       "      <td>Amon</td>\n",
       "      <td>rlus</td>\n",
       "      <td>gn</td>\n",
       "      <td>gs://cmip6/CMIP6/HighResMIP/CMCC/CMCC-CM2-HR4/...</td>\n",
       "      <td>NaN</td>\n",
       "      <td>20170706</td>\n",
       "    </tr>\n",
       "    <tr>\n",
       "      <th>3</th>\n",
       "      <td>HighResMIP</td>\n",
       "      <td>CMCC</td>\n",
       "      <td>CMCC-CM2-HR4</td>\n",
       "      <td>highresSST-present</td>\n",
       "      <td>r1i1p1f1</td>\n",
       "      <td>Amon</td>\n",
       "      <td>rlds</td>\n",
       "      <td>gn</td>\n",
       "      <td>gs://cmip6/CMIP6/HighResMIP/CMCC/CMCC-CM2-HR4/...</td>\n",
       "      <td>NaN</td>\n",
       "      <td>20170706</td>\n",
       "    </tr>\n",
       "    <tr>\n",
       "      <th>4</th>\n",
       "      <td>HighResMIP</td>\n",
       "      <td>CMCC</td>\n",
       "      <td>CMCC-CM2-HR4</td>\n",
       "      <td>highresSST-present</td>\n",
       "      <td>r1i1p1f1</td>\n",
       "      <td>Amon</td>\n",
       "      <td>psl</td>\n",
       "      <td>gn</td>\n",
       "      <td>gs://cmip6/CMIP6/HighResMIP/CMCC/CMCC-CM2-HR4/...</td>\n",
       "      <td>NaN</td>\n",
       "      <td>20170706</td>\n",
       "    </tr>\n",
       "  </tbody>\n",
       "</table>\n",
       "</div>"
      ],
      "text/plain": [
       "  activity_id institution_id     source_id       experiment_id member_id  \\\n",
       "0  HighResMIP           CMCC  CMCC-CM2-HR4  highresSST-present  r1i1p1f1   \n",
       "1  HighResMIP           CMCC  CMCC-CM2-HR4  highresSST-present  r1i1p1f1   \n",
       "2  HighResMIP           CMCC  CMCC-CM2-HR4  highresSST-present  r1i1p1f1   \n",
       "3  HighResMIP           CMCC  CMCC-CM2-HR4  highresSST-present  r1i1p1f1   \n",
       "4  HighResMIP           CMCC  CMCC-CM2-HR4  highresSST-present  r1i1p1f1   \n",
       "\n",
       "  table_id variable_id grid_label  \\\n",
       "0     Amon          ps         gn   \n",
       "1     Amon        rsds         gn   \n",
       "2     Amon        rlus         gn   \n",
       "3     Amon        rlds         gn   \n",
       "4     Amon         psl         gn   \n",
       "\n",
       "                                              zstore  dcpp_init_year   version  \n",
       "0  gs://cmip6/CMIP6/HighResMIP/CMCC/CMCC-CM2-HR4/...             NaN  20170706  \n",
       "1  gs://cmip6/CMIP6/HighResMIP/CMCC/CMCC-CM2-HR4/...             NaN  20170706  \n",
       "2  gs://cmip6/CMIP6/HighResMIP/CMCC/CMCC-CM2-HR4/...             NaN  20170706  \n",
       "3  gs://cmip6/CMIP6/HighResMIP/CMCC/CMCC-CM2-HR4/...             NaN  20170706  \n",
       "4  gs://cmip6/CMIP6/HighResMIP/CMCC/CMCC-CM2-HR4/...             NaN  20170706  "
      ]
     },
     "execution_count": 2,
     "metadata": {},
     "output_type": "execute_result"
    }
   ],
   "source": [
    "df = pd.read_csv('https://storage.googleapis.com/cmip6/cmip6-zarr-consolidated-stores.csv')\n",
    "df.head()"
   ]
  },
  {
   "cell_type": "code",
   "execution_count": 3,
   "id": "e75c008c-1503-4066-9690-d5299e5a1f71",
   "metadata": {},
   "outputs": [],
   "source": [
    "gcs = gcsfs.GCSFileSystem(token='anon')"
   ]
  },
  {
   "cell_type": "code",
   "execution_count": 4,
   "id": "88e60c5a-4ec6-408b-a9a7-cc2dc2a2720a",
   "metadata": {},
   "outputs": [],
   "source": [
    "def load_zarr_dset(df):\n",
    "  # get the path to a specific zarr store (the first one from the dataframe above)\n",
    "  zstore = df.zstore.values[-1]\n",
    "\n",
    "  # create a mutable-mapping-style interface to the store\n",
    "  mapper = gcs.get_mapper(zstore)\n",
    "\n",
    "  # open it using xarray and zarr\n",
    "  ds = xr.open_zarr(mapper, consolidated=True)\n",
    "  return ds"
   ]
  },
  {
   "cell_type": "code",
   "execution_count": 12,
   "id": "5a65116d-905a-4e08-9df5-d783fc2529c1",
   "metadata": {},
   "outputs": [
    {
     "data": {
      "text/plain": [
       "DatetimeIndex(['1850-01-31', '1850-02-28', '1850-03-31', '1850-04-30',\n",
       "               '1850-05-31', '1850-06-30', '1850-07-31', '1850-08-31',\n",
       "               '1850-09-30', '1850-10-31',\n",
       "               ...\n",
       "               '2099-03-31', '2099-04-30', '2099-05-31', '2099-06-30',\n",
       "               '2099-07-31', '2099-08-31', '2099-09-30', '2099-10-31',\n",
       "               '2099-11-30', '2099-12-31'],\n",
       "              dtype='datetime64[ns]', length=3000, freq='ME')"
      ]
     },
     "execution_count": 12,
     "metadata": {},
     "output_type": "execute_result"
    }
   ],
   "source": [
    "#time index for hist+ssp585\n",
    "new_time_index_hist_ssp = pd.date_range('1850-01-01', '2099-12-31', freq = 'ME')\n",
    "new_time_index_hist_ssp"
   ]
  },
  {
   "cell_type": "code",
   "execution_count": 11,
   "id": "873a1028-aa47-46e9-9786-8a72b5af5e32",
   "metadata": {},
   "outputs": [
    {
     "data": {
      "text/plain": [
       "DatetimeIndex(['1850-01-31', '1850-02-28', '1850-03-31', '1850-04-30',\n",
       "               '1850-05-31', '1850-06-30', '1850-07-31', '1850-08-31',\n",
       "               '1850-09-30', '1850-10-31',\n",
       "               ...\n",
       "               '1999-03-31', '1999-04-30', '1999-05-31', '1999-06-30',\n",
       "               '1999-07-31', '1999-08-31', '1999-09-30', '1999-10-31',\n",
       "               '1999-11-30', '1999-12-31'],\n",
       "              dtype='datetime64[ns]', length=1800, freq='ME')"
      ]
     },
     "execution_count": 11,
     "metadata": {},
     "output_type": "execute_result"
    }
   ],
   "source": [
    "#time index to assign abrupt4xCO2 model times to\n",
    "new_time_index_abrupt =pd.date_range('1850-01-01', '1999-12-31', freq='ME')\n",
    "new_time_index_abrupt "
   ]
  },
  {
   "cell_type": "code",
   "execution_count": 8,
   "id": "eaed3185-321e-4995-8dc6-5a8cde1b05c4",
   "metadata": {},
   "outputs": [
    {
     "name": "stdout",
     "output_type": "stream",
     "text": [
      "41\n"
     ]
    }
   ],
   "source": [
    "#rlut\n",
    "df_hist_toa_rlut = df.query(  \"activity_id=='CMIP'         & table_id == 'Amon' & variable_id == 'rlut' & experiment_id=='historical'\")\n",
    "df_ssp585_toa_rlut = df.query(\"activity_id=='ScenarioMIP'  & table_id == 'Amon' & variable_id == 'rlut' & experiment_id=='ssp585'\")\n",
    "#rsut\n",
    "df_hist_toa_rsut = df.query(  \"activity_id=='CMIP'         & table_id == 'Amon' & variable_id == 'rsut' & experiment_id=='historical'\")\n",
    "df_ssp585_toa_rsut = df.query(\"activity_id=='ScenarioMIP'  & table_id == 'Amon' & variable_id == 'rsut' & experiment_id=='ssp585'\")\n",
    "#rsdt\n",
    "df_hist_toa_rsdt = df.query(  \"activity_id=='CMIP'         & table_id == 'Amon' & variable_id == 'rsdt' & experiment_id=='historical'\")\n",
    "df_ssp585_toa_rsdt = df.query(\"activity_id=='ScenarioMIP'  & table_id == 'Amon' & variable_id == 'rsdt' & experiment_id=='ssp585'\")\n",
    "#models\n",
    "models_toa_hist_rlut  =set(df_hist_toa_rlut.source_id)\n",
    "models_toa_hist_rsut  =set(df_hist_toa_rsut.source_id)\n",
    "models_toa_hist_rsdt  =set(df_hist_toa_rsdt.source_id) # all models that have toa in the historical simulations\n",
    "models_toa_ssp585_rlut=set(df_ssp585_toa_rlut.source_id) #all models that have toa in the ssp585 simulations\n",
    "models_toa_ssp585_rsut=set(df_ssp585_toa_rsut.source_id)\n",
    "models_toa_ssp585_rsdt=set(df_ssp585_toa_rsdt.source_id)\n",
    "\n",
    "#intersection of all of the models that have all radiation types\n",
    "source_set_toa = set.intersection(models_toa_hist_rlut, models_toa_hist_rsut, models_toa_hist_rsdt, models_toa_ssp585_rlut, models_toa_ssp585_rsut, models_toa_ssp585_rsdt)\n",
    "source_list_toa = list(source_set_toa)\n",
    "print(len(source_list_toa))"
   ]
  },
  {
   "cell_type": "code",
   "execution_count": 9,
   "id": "04f5c7a1-2f76-42e1-95d6-8582ea144a57",
   "metadata": {},
   "outputs": [
    {
     "name": "stdout",
     "output_type": "stream",
     "text": [
      "31\n"
     ]
    }
   ],
   "source": [
    "#rlut\n",
    "df_hist_toa_rlut = df.query(  \"activity_id=='CMIP'         & table_id == 'Amon' & variable_id == 'rlut' & experiment_id=='historical' & member_id == 'r1i1p1f1'\")\n",
    "df_ssp585_toa_rlut = df.query(\"activity_id=='ScenarioMIP'  & table_id == 'Amon' & variable_id == 'rlut' & experiment_id=='ssp585' & member_id == 'r1i1p1f1'\")\n",
    "#rsut\n",
    "df_hist_toa_rsut = df.query(  \"activity_id=='CMIP'         & table_id == 'Amon' & variable_id == 'rsut' & experiment_id=='historical' & member_id == 'r1i1p1f1'\")\n",
    "df_ssp585_toa_rsut = df.query(\"activity_id=='ScenarioMIP'  & table_id == 'Amon' & variable_id == 'rsut' & experiment_id=='ssp585' & member_id == 'r1i1p1f1'\")\n",
    "#rsdt\n",
    "df_hist_toa_rsdt = df.query(  \"activity_id=='CMIP'         & table_id == 'Amon' & variable_id == 'rsdt' & experiment_id=='historical' & member_id == 'r1i1p1f1'\")\n",
    "df_ssp585_toa_rsdt = df.query(\"activity_id=='ScenarioMIP'  & table_id == 'Amon' & variable_id == 'rsdt' & experiment_id=='ssp585' & member_id == 'r1i1p1f1'\")\n",
    "#models\n",
    "models_toa_hist_rlut  =set(df_hist_toa_rlut.source_id)\n",
    "models_toa_hist_rsut  =set(df_hist_toa_rsut.source_id)\n",
    "models_toa_hist_rsdt  =set(df_hist_toa_rsdt.source_id) # all models that have toa in the historical simulations\n",
    "models_toa_ssp585_rlut=set(df_ssp585_toa_rlut.source_id) #all models that have toa in the ssp585 simulations\n",
    "models_toa_ssp585_rsut=set(df_ssp585_toa_rsut.source_id)\n",
    "models_toa_ssp585_rsdt=set(df_ssp585_toa_rsdt.source_id)\n",
    "\n",
    "#intersection of all of the models that have all radiation types\n",
    "source_set_toa_2 = set.intersection(models_toa_hist_rlut, models_toa_hist_rsut, models_toa_hist_rsdt, models_toa_ssp585_rlut, models_toa_ssp585_rsut, models_toa_ssp585_rsdt)\n",
    "source_list_toa_2 = list(source_set_toa_2)\n",
    "print(len(source_list_toa_2))"
   ]
  },
  {
   "cell_type": "code",
   "execution_count": 8,
   "id": "7fb812dd-359f-4a57-908f-48b0f3b41b92",
   "metadata": {},
   "outputs": [
    {
     "name": "stdout",
     "output_type": "stream",
     "text": [
      "['ACCESS-CM2', 'MIROC6', 'IITM-ESM', 'CanESM5', 'EC-Earth3-Veg', 'INM-CM5-0', 'GFDL-ESM4', 'EC-Earth3-Veg-LR', 'BCC-CSM2-MR', 'CMCC-CM2-SR5', 'KACE-1-0-G', 'NESM3', 'NorESM2-LM', 'INM-CM4-8', 'AWI-CM-1-1-MR', 'MRI-ESM2-0', 'IPSL-CM6A-LR', 'FGOALS-g3', 'FGOALS-f3-L', 'NorESM2-MM', 'TaiESM1', 'CESM2-WACCM', 'EC-Earth3', 'E3SM-1-1', 'FIO-ESM-2-0', 'MPI-ESM1-2-LR', 'GFDL-CM4', 'CAMS-CSM1-0', 'CIESM', 'MPI-ESM1-2-HR', 'KIOST-ESM']\n"
     ]
    }
   ],
   "source": [
    "print(source_list_toa_2)"
   ]
  },
  {
   "cell_type": "markdown",
   "id": "cc8723ad-1628-413b-9131-0b27d1f73a0c",
   "metadata": {},
   "source": [
    "### 1.1 Look at One Model"
   ]
  },
  {
   "cell_type": "code",
   "execution_count": 84,
   "id": "ad05bcfa-63ee-4e6f-87e7-2e863b7b76db",
   "metadata": {},
   "outputs": [],
   "source": [
    "#query data\n",
    "#historical data\n",
    "df_toa_hist_canesm5_rlut = df.query(  \"activity_id=='CMIP' & source_id == 'CanESM5' & table_id == 'Amon' & variable_id == 'rlut' & experiment_id=='historical' & member_id == 'r1i1p1f1'\")\n",
    "df_toa_hist_canesm5_rsut = df.query(  \"activity_id=='CMIP' & source_id == 'CanESM5' & table_id == 'Amon' & variable_id == 'rsut' & experiment_id=='historical' & member_id == 'r1i1p1f1'\")\n",
    "df_toa_hist_canesm5_rsdt = df.query(  \"activity_id=='CMIP' & source_id == 'CanESM5' & table_id == 'Amon' & variable_id == 'rsdt' & experiment_id=='historical' & member_id == 'r1i1p1f1'\")\n",
    "#load hist data as dataset\n",
    "ds_toa_hist_canesm5_rlut = load_zarr_dset(df_toa_hist_canesm5_rlut)\n",
    "ds_toa_hist_canesm5_rsut = load_zarr_dset(df_toa_hist_canesm5_rsut)\n",
    "ds_toa_hist_canesm5_rsdt = load_zarr_dset(df_toa_hist_canesm5_rsdt)\n",
    "ds_toa_hist_canesm5 = xr.concat([ds_toa_hist_canesm5_rlut, ds_toa_hist_canesm5_rsut, ds_toa_hist_canesm5_rsdt], dim = ('time'), coords = 'all', compat = 'override')\n",
    "#ssp585 data\n",
    "df_toa_ssp585_canesm5_rlut = df.query(\"activity_id=='ScenarioMIP' & source_id == 'CanESM5' & table_id == 'Amon' & variable_id == 'rlut' & experiment_id=='ssp585' & member_id == 'r1i1p1f1'\")\n",
    "df_toa_ssp585_canesm5_rsut = df.query(\"activity_id=='ScenarioMIP' & source_id == 'CanESM5' & table_id == 'Amon' & variable_id == 'rsut' & experiment_id=='ssp585' & member_id == 'r1i1p1f1'\")\n",
    "df_toa_ssp585_canesm5_rsdt = df.query(\"activity_id=='ScenarioMIP' & source_id == 'CanESM5' & table_id == 'Amon' & variable_id == 'rsdt' & experiment_id=='ssp585' & member_id == 'r1i1p1f1'\")\n",
    "#load ssp data as dataset\n",
    "ds_toa_ssp585_canesm5_rlut = load_zarr_dset(df_toa_ssp585_canesm5_rlut)\n",
    "ds_toa_ssp585_canesm5_rsut = load_zarr_dset(df_toa_ssp585_canesm5_rsut)\n",
    "ds_toa_ssp585_canesm5_rsdt = load_zarr_dset(df_toa_ssp585_canesm5_rsdt)\n",
    "ds_toa_ssp585_canesm5 = xr.concat([ds_toa_ssp585_canesm5_rlut, ds_toa_ssp585_canesm5_rsut, ds_toa_ssp585_canesm5_rsdt], dim = ('time'), coords = 'all', compat = 'override')\n",
    "#load toa data\n",
    "hist_toa_canesm5 = ds_toa_hist_canesm5.rsdt - ds_toa_hist_canesm5.rsut - ds_toa_hist_canesm5.rlut\n",
    "ssp585_toa_canesm5 = ds_toa_ssp585_canesm5.rsdt - ds_toa_ssp585_canesm5.rsut - ds_toa_ssp585_canesm5.rlut\n",
    "#create a new toa variable\n",
    "ds_toa_hist_canesm5 = ds_toa_hist_canesm5.assign(toa = hist_toa_canesm5)\n",
    "ds_toa_ssp585_canesm5 = ds_toa_ssp585_canesm5.assign(toa = ssp585_toa_canesm5)\n",
    "\n",
    "#concat hist and ssp585 data into one ds\n",
    "ds_all_canesm5 = xr.concat([ds_toa_hist_canesm5, ds_toa_ssp585_canesm5], dim = 'time', coords = 'all', compat = 'override')\n",
    "#ds_all_canesm5"
   ]
  },
  {
   "cell_type": "code",
   "execution_count": null,
   "id": "80c2747b-ba8f-40a4-9c30-c4d5d2783f8d",
   "metadata": {},
   "outputs": [],
   "source": [
    "#seeing historical data\n",
    "#ds_toa_hist_canesm5_rlut is good\n",
    "#ds_toa_hist_canesm5_rsut has 0s\n",
    "#ds_toa_hist_canesm5_rsdt has 0s \n",
    "\n",
    "#seeing ssp data\n",
    "#ds_toa_ssp585_canesm5_rlut is good\n",
    "#ds_toa_ssp585_canesm5_rsut has 0s\n",
    "#ds_toa_hist_canesm5_rsdt has 0s\n",
    "\n",
    "#checking concatted ssp data\n",
    "#ds_toa_ssp585_canesm5.rlut.values\n",
    "#ds_toa_ssp585_canesm.rsut.values has ALL nans\n",
    "#ds_toa_ssp585_canesm5.rsdt.values has ALL nans"
   ]
  },
  {
   "cell_type": "code",
   "execution_count": 92,
   "id": "aacc21a2-8d9d-4ceb-9d2e-43a579dffc23",
   "metadata": {},
   "outputs": [
    {
     "data": {
      "text/plain": [
       "array([[[nan, nan, nan, ..., nan, nan, nan],\n",
       "        [nan, nan, nan, ..., nan, nan, nan],\n",
       "        [nan, nan, nan, ..., nan, nan, nan],\n",
       "        ...,\n",
       "        [nan, nan, nan, ..., nan, nan, nan],\n",
       "        [nan, nan, nan, ..., nan, nan, nan],\n",
       "        [nan, nan, nan, ..., nan, nan, nan]],\n",
       "\n",
       "       [[nan, nan, nan, ..., nan, nan, nan],\n",
       "        [nan, nan, nan, ..., nan, nan, nan],\n",
       "        [nan, nan, nan, ..., nan, nan, nan],\n",
       "        ...,\n",
       "        [nan, nan, nan, ..., nan, nan, nan],\n",
       "        [nan, nan, nan, ..., nan, nan, nan],\n",
       "        [nan, nan, nan, ..., nan, nan, nan]],\n",
       "\n",
       "       [[nan, nan, nan, ..., nan, nan, nan],\n",
       "        [nan, nan, nan, ..., nan, nan, nan],\n",
       "        [nan, nan, nan, ..., nan, nan, nan],\n",
       "        ...,\n",
       "        [nan, nan, nan, ..., nan, nan, nan],\n",
       "        [nan, nan, nan, ..., nan, nan, nan],\n",
       "        [nan, nan, nan, ..., nan, nan, nan]],\n",
       "\n",
       "       ...,\n",
       "\n",
       "       [[nan, nan, nan, ..., nan, nan, nan],\n",
       "        [nan, nan, nan, ..., nan, nan, nan],\n",
       "        [nan, nan, nan, ..., nan, nan, nan],\n",
       "        ...,\n",
       "        [nan, nan, nan, ..., nan, nan, nan],\n",
       "        [nan, nan, nan, ..., nan, nan, nan],\n",
       "        [nan, nan, nan, ..., nan, nan, nan]],\n",
       "\n",
       "       [[nan, nan, nan, ..., nan, nan, nan],\n",
       "        [nan, nan, nan, ..., nan, nan, nan],\n",
       "        [nan, nan, nan, ..., nan, nan, nan],\n",
       "        ...,\n",
       "        [nan, nan, nan, ..., nan, nan, nan],\n",
       "        [nan, nan, nan, ..., nan, nan, nan],\n",
       "        [nan, nan, nan, ..., nan, nan, nan]],\n",
       "\n",
       "       [[nan, nan, nan, ..., nan, nan, nan],\n",
       "        [nan, nan, nan, ..., nan, nan, nan],\n",
       "        [nan, nan, nan, ..., nan, nan, nan],\n",
       "        ...,\n",
       "        [nan, nan, nan, ..., nan, nan, nan],\n",
       "        [nan, nan, nan, ..., nan, nan, nan],\n",
       "        [nan, nan, nan, ..., nan, nan, nan]]], dtype=float32)"
      ]
     },
     "execution_count": 92,
     "metadata": {},
     "output_type": "execute_result"
    }
   ],
   "source": [
    "ds_all_canesm5.toa.values"
   ]
  },
  {
   "cell_type": "code",
   "execution_count": null,
   "id": "8383d576-4ca6-4f8e-aec6-9cc0847a1958",
   "metadata": {},
   "outputs": [],
   "source": [
    "#weights\n",
    "weights = np.cos(np.deg2rad(ds_all_canesm5.toa.lat))\n",
    "ds_all_canesm5 = ds_all_canesm5.weighted(weights).mean(dim=('lon', 'lat'))\n",
    "#slice to specific period and reassign new time index\n",
    "ds_all_canesm5 = ds_all_canesm5.isel(time=slice(0,3000))\n",
    "ds_all_canesm5 = ds_all_canesm5.assign(time=new_time_index_hist_ssp)\n",
    "#ds_all_canesm5 = ds_all_canesm5.assign_coords(model=df_toa_hist_canesm5_rlut.source_id)\n",
    "\n",
    "#check ds\n",
    "ds_all_canesm5"
   ]
  },
  {
   "cell_type": "code",
   "execution_count": null,
   "id": "3ff1b2f4-88cc-42d0-aee0-bc04e175a42d",
   "metadata": {},
   "outputs": [],
   "source": [
    "#hist_toa_canesm5.values has nan values\n",
    "#ds_toa_hist_canesm5.toa has nan values\n",
    "#this means something went wrong when we concatted our data \n",
    "\n",
    "\n",
    "#checking each indiv rlut/rsut/rsdt values\n",
    "#ds_toa_ssp585_canesm5.rsdt has missinging nans\n",
    "#ds_toa_ssp585_canesm_rsdt.rsdt has some 0s but no nans\n",
    "#ds_toa_ssp585_canesm5_rsut.rsut has 0 values but no nans"
   ]
  },
  {
   "cell_type": "code",
   "execution_count": 63,
   "id": "aa4e6780-7576-4051-a195-f23d1ae98c1f",
   "metadata": {},
   "outputs": [
    {
     "data": {
      "text/plain": [
       "[<matplotlib.lines.Line2D at 0x21517da0bf0>]"
      ]
     },
     "execution_count": 63,
     "metadata": {},
     "output_type": "execute_result"
    },
    {
     "data": {
      "image/png": "[encoded data removed]",
      "text/plain": [
       "<Figure size 4000x600 with 1 Axes>"
      ]
     },
     "metadata": {},
     "output_type": "display_data"
    }
   ],
   "source": [
    "#plot model\n",
    "fig, ax = plt.subplots(figsize = (40,6))\n",
    "ds_all_canesm5.toa.plot(ax=ax)"
   ]
  },
  {
   "cell_type": "code",
   "execution_count": null,
   "id": "da5b9f70-bdf3-47e0-bd53-fb3eea15437d",
   "metadata": {},
   "outputs": [],
   "source": []
  },
  {
   "cell_type": "code",
   "execution_count": null,
   "id": "deaa37e7-28a2-4bda-b37c-7af8a8598b67",
   "metadata": {},
   "outputs": [],
   "source": []
  }
 ],
 "metadata": {
  "kernelspec": {
   "display_name": "Python 3 (ipykernel)",
   "language": "python",
   "name": "python3"
  },
  "language_info": {
   "codemirror_mode": {
    "name": "ipython",
    "version": 3
   },
   "file_extension": ".py",
   "mimetype": "text/x-python",
   "name": "python",
   "nbconvert_exporter": "python",
   "pygments_lexer": "ipython3",
   "version": "3.12.4"
  }
 },
 "nbformat": 4,
 "nbformat_minor": 5
}
