{
 "cells": [
  {
   "cell_type": "markdown",
   "id": "c157c337-55b3-4116-b119-437977e33964",
   "metadata": {},
   "source": [
    "## Preprocessing Global TOA Data for Abrupt4XCO2"
   ]
  },
  {
   "cell_type": "markdown",
   "id": "87d460ac-8590-4016-864b-39a035064ecd",
   "metadata": {},
   "source": [
    " Preprocessing global TOA data for abrupt4xCO2 and piControl simulations.\n"
   ]
  },
  {
   "cell_type": "code",
   "execution_count": 1,
   "id": "30610654-accb-464c-9af0-50f8eb1d79b7",
   "metadata": {},
   "outputs": [],
   "source": [
    "#imports\n",
    "from matplotlib import pyplot as plt\n",
    "from matplotlib.lines import Line2D \n",
    "from scipy import stats\n",
    "import cftime\n",
    "import numpy as np\n",
    "import pandas as pd\n",
    "import xarray as xr\n",
    "import zarr\n",
    "import gcsfs\n",
    "import cartopy\n",
    "import cartopy.crs as ccrs\n",
    "import cartopy.feature as cfeature"
   ]
  },
  {
   "cell_type": "code",
   "execution_count": 2,
   "id": "763c1ade-7399-4a68-aacd-1db3e6fa1a7d",
   "metadata": {},
   "outputs": [
    {
     "data": {
      "text/html": [
       "<div>\n",
       "<style scoped>\n",
       "    .dataframe tbody tr th:only-of-type {\n",
       "        vertical-align: middle;\n",
       "    }\n",
       "\n",
       "    .dataframe tbody tr th {\n",
       "        vertical-align: top;\n",
       "    }\n",
       "\n",
       "    .dataframe thead th {\n",
       "        text-align: right;\n",
       "    }\n",
       "</style>\n",
       "<table border=\"1\" class=\"dataframe\">\n",
       "  <thead>\n",
       "    <tr style=\"text-align: right;\">\n",
       "      <th></th>\n",
       "      <th>activity_id</th>\n",
       "      <th>institution_id</th>\n",
       "      <th>source_id</th>\n",
       "      <th>experiment_id</th>\n",
       "      <th>member_id</th>\n",
       "      <th>table_id</th>\n",
       "      <th>variable_id</th>\n",
       "      <th>grid_label</th>\n",
       "      <th>zstore</th>\n",
       "      <th>dcpp_init_year</th>\n",
       "      <th>version</th>\n",
       "    </tr>\n",
       "  </thead>\n",
       "  <tbody>\n",
       "    <tr>\n",
       "      <th>0</th>\n",
       "      <td>HighResMIP</td>\n",
       "      <td>CMCC</td>\n",
       "      <td>CMCC-CM2-HR4</td>\n",
       "      <td>highresSST-present</td>\n",
       "      <td>r1i1p1f1</td>\n",
       "      <td>Amon</td>\n",
       "      <td>ps</td>\n",
       "      <td>gn</td>\n",
       "      <td>gs://cmip6/CMIP6/HighResMIP/CMCC/CMCC-CM2-HR4/...</td>\n",
       "      <td>NaN</td>\n",
       "      <td>20170706</td>\n",
       "    </tr>\n",
       "    <tr>\n",
       "      <th>1</th>\n",
       "      <td>HighResMIP</td>\n",
       "      <td>CMCC</td>\n",
       "      <td>CMCC-CM2-HR4</td>\n",
       "      <td>highresSST-present</td>\n",
       "      <td>r1i1p1f1</td>\n",
       "      <td>Amon</td>\n",
       "      <td>rsds</td>\n",
       "      <td>gn</td>\n",
       "      <td>gs://cmip6/CMIP6/HighResMIP/CMCC/CMCC-CM2-HR4/...</td>\n",
       "      <td>NaN</td>\n",
       "      <td>20170706</td>\n",
       "    </tr>\n",
       "    <tr>\n",
       "      <th>2</th>\n",
       "      <td>HighResMIP</td>\n",
       "      <td>CMCC</td>\n",
       "      <td>CMCC-CM2-HR4</td>\n",
       "      <td>highresSST-present</td>\n",
       "      <td>r1i1p1f1</td>\n",
       "      <td>Amon</td>\n",
       "      <td>rlus</td>\n",
       "      <td>gn</td>\n",
       "      <td>gs://cmip6/CMIP6/HighResMIP/CMCC/CMCC-CM2-HR4/...</td>\n",
       "      <td>NaN</td>\n",
       "      <td>20170706</td>\n",
       "    </tr>\n",
       "    <tr>\n",
       "      <th>3</th>\n",
       "      <td>HighResMIP</td>\n",
       "      <td>CMCC</td>\n",
       "      <td>CMCC-CM2-HR4</td>\n",
       "      <td>highresSST-present</td>\n",
       "      <td>r1i1p1f1</td>\n",
       "      <td>Amon</td>\n",
       "      <td>rlds</td>\n",
       "      <td>gn</td>\n",
       "      <td>gs://cmip6/CMIP6/HighResMIP/CMCC/CMCC-CM2-HR4/...</td>\n",
       "      <td>NaN</td>\n",
       "      <td>20170706</td>\n",
       "    </tr>\n",
       "    <tr>\n",
       "      <th>4</th>\n",
       "      <td>HighResMIP</td>\n",
       "      <td>CMCC</td>\n",
       "      <td>CMCC-CM2-HR4</td>\n",
       "      <td>highresSST-present</td>\n",
       "      <td>r1i1p1f1</td>\n",
       "      <td>Amon</td>\n",
       "      <td>psl</td>\n",
       "      <td>gn</td>\n",
       "      <td>gs://cmip6/CMIP6/HighResMIP/CMCC/CMCC-CM2-HR4/...</td>\n",
       "      <td>NaN</td>\n",
       "      <td>20170706</td>\n",
       "    </tr>\n",
       "  </tbody>\n",
       "</table>\n",
       "</div>"
      ],
      "text/plain": [
       "  activity_id institution_id     source_id       experiment_id member_id  \\\n",
       "0  HighResMIP           CMCC  CMCC-CM2-HR4  highresSST-present  r1i1p1f1   \n",
       "1  HighResMIP           CMCC  CMCC-CM2-HR4  highresSST-present  r1i1p1f1   \n",
       "2  HighResMIP           CMCC  CMCC-CM2-HR4  highresSST-present  r1i1p1f1   \n",
       "3  HighResMIP           CMCC  CMCC-CM2-HR4  highresSST-present  r1i1p1f1   \n",
       "4  HighResMIP           CMCC  CMCC-CM2-HR4  highresSST-present  r1i1p1f1   \n",
       "\n",
       "  table_id variable_id grid_label  \\\n",
       "0     Amon          ps         gn   \n",
       "1     Amon        rsds         gn   \n",
       "2     Amon        rlus         gn   \n",
       "3     Amon        rlds         gn   \n",
       "4     Amon         psl         gn   \n",
       "\n",
       "                                              zstore  dcpp_init_year   version  \n",
       "0  gs://cmip6/CMIP6/HighResMIP/CMCC/CMCC-CM2-HR4/...             NaN  20170706  \n",
       "1  gs://cmip6/CMIP6/HighResMIP/CMCC/CMCC-CM2-HR4/...             NaN  20170706  \n",
       "2  gs://cmip6/CMIP6/HighResMIP/CMCC/CMCC-CM2-HR4/...             NaN  20170706  \n",
       "3  gs://cmip6/CMIP6/HighResMIP/CMCC/CMCC-CM2-HR4/...             NaN  20170706  \n",
       "4  gs://cmip6/CMIP6/HighResMIP/CMCC/CMCC-CM2-HR4/...             NaN  20170706  "
      ]
     },
     "execution_count": 2,
     "metadata": {},
     "output_type": "execute_result"
    }
   ],
   "source": [
    "df = pd.read_csv('https://storage.googleapis.com/cmip6/cmip6-zarr-consolidated-stores.csv')\n",
    "df.head()"
   ]
  },
  {
   "cell_type": "code",
   "execution_count": 3,
   "id": "33cbee09-f823-4a7e-98f9-6416d7b5a98b",
   "metadata": {},
   "outputs": [],
   "source": [
    "gcs = gcsfs.GCSFileSystem(token='anon')"
   ]
  },
  {
   "cell_type": "code",
   "execution_count": 4,
   "id": "eafa62a2-0d70-4ad2-83e8-def6c52f653d",
   "metadata": {},
   "outputs": [],
   "source": [
    "def load_zarr_dset(df):\n",
    "  # get the path to a specific zarr store (the first one from the dataframe above)\n",
    "  zstore = df.zstore.values[-1]\n",
    "\n",
    "  # create a mutable-mapping-style interface to the store\n",
    "  mapper = gcs.get_mapper(zstore)\n",
    "\n",
    "  # open it using xarray and zarr\n",
    "  ds = xr.open_zarr(mapper, consolidated=True)\n",
    "  return ds"
   ]
  },
  {
   "cell_type": "code",
   "execution_count": 5,
   "id": "3ea18701-12d6-4126-87f2-001a2e4c7c5c",
   "metadata": {},
   "outputs": [
    {
     "data": {
      "text/plain": [
       "DatetimeIndex(['1850-01-31', '1850-02-28', '1850-03-31', '1850-04-30',\n",
       "               '1850-05-31', '1850-06-30', '1850-07-31', '1850-08-31',\n",
       "               '1850-09-30', '1850-10-31',\n",
       "               ...\n",
       "               '1999-03-31', '1999-04-30', '1999-05-31', '1999-06-30',\n",
       "               '1999-07-31', '1999-08-31', '1999-09-30', '1999-10-31',\n",
       "               '1999-11-30', '1999-12-31'],\n",
       "              dtype='datetime64[ns]', length=1800, freq='ME')"
      ]
     },
     "execution_count": 5,
     "metadata": {},
     "output_type": "execute_result"
    }
   ],
   "source": [
    "#time index to assign abrupt4xCO2 model times to\n",
    "new_time_index_abrupt =pd.date_range('1850-01-01', '1999-12-31', freq='ME')\n",
    "new_time_index_abrupt "
   ]
  },
  {
   "cell_type": "code",
   "execution_count": 6,
   "id": "ae8bbbe3-415f-427d-bbcb-9951bd18668f",
   "metadata": {},
   "outputs": [
    {
     "name": "stdout",
     "output_type": "stream",
     "text": [
      "50\n"
     ]
    }
   ],
   "source": [
    "#query all models for toa radiation variables for abrupt-4xCO2\n",
    "#rlut\n",
    "df_abrupt4xCO2_toa_rlut = df.query(  \"activity_id=='CMIP'         & table_id == 'Amon' & variable_id == 'rlut' & experiment_id=='abrupt-4xCO2'\")\n",
    "#rsut\n",
    "df_abrupt4xCO2_toa_rsut = df.query(  \"activity_id=='CMIP'         & table_id == 'Amon' & variable_id == 'rsut' & experiment_id=='abrupt-4xCO2'\")\n",
    "#rsdt\n",
    "df_abrupt4xCO2_toa_rsdt = df.query(  \"activity_id=='CMIP'         & table_id == 'Amon' & variable_id == 'rsdt' & experiment_id=='abrupt-4xCO2'\")\n",
    "#models\n",
    "models_toa_abrupt4xCO2_rlut  = set(df_abrupt4xCO2_toa_rlut.source_id)\n",
    "models_toa_abrupt4xCO2_rsut  = set(df_abrupt4xCO2_toa_rsut.source_id)\n",
    "models_toa_abrupt4xCO2_rsdt  = set(df_abrupt4xCO2_toa_rsdt.source_id)\n",
    "\n",
    "#intersection of all of the models that have all radiation types\n",
    "source_set_abrupt4xCO2 = set.intersection(models_toa_abrupt4xCO2_rlut, models_toa_abrupt4xCO2_rsut, models_toa_abrupt4xCO2_rsdt)\n",
    "source_list_abrupt4xCO2 = list(source_set_abrupt4xCO2)\n",
    "print(len(source_set_abrupt4xCO2))"
   ]
  },
  {
   "cell_type": "code",
   "execution_count": 7,
   "id": "870c66f8-715e-4df5-a9f1-01d0a4575d17",
   "metadata": {},
   "outputs": [
    {
     "name": "stdout",
     "output_type": "stream",
     "text": [
      "42\n"
     ]
    }
   ],
   "source": [
    "#query all models for toa radiation variables for abrupt-4xCO2 w/ r1i1p1f1\n",
    "#rlut\n",
    "df_abrupt4xCO2_toa_rlut = df.query(  \"activity_id=='CMIP' & member_id == 'r1i1p1f1' & table_id == 'Amon' & variable_id == 'rlut' & experiment_id=='abrupt-4xCO2'\")\n",
    "#rsut\n",
    "df_abrupt4xCO2_toa_rsut = df.query(  \"activity_id=='CMIP' & member_id == 'r1i1p1f1' & table_id == 'Amon' & variable_id == 'rsut' & experiment_id=='abrupt-4xCO2'\")\n",
    "#rsdt\n",
    "df_abrupt4xCO2_toa_rsdt = df.query(  \"activity_id=='CMIP' & member_id == 'r1i1p1f1' & table_id == 'Amon' & variable_id == 'rsdt' & experiment_id=='abrupt-4xCO2'\")\n",
    "#models\n",
    "models_toa_abrupt4xCO2_rlut  = set(df_abrupt4xCO2_toa_rlut.source_id)\n",
    "models_toa_abrupt4xCO2_rsut  = set(df_abrupt4xCO2_toa_rsut.source_id)\n",
    "models_toa_abrupt4xCO2_rsdt  = set(df_abrupt4xCO2_toa_rsdt.source_id)\n",
    "\n",
    "#intersection of all of the models that have all radiation types\n",
    "source_set_abrupt4xCO2_2 = set.intersection(models_toa_abrupt4xCO2_rlut, models_toa_abrupt4xCO2_rsut, models_toa_abrupt4xCO2_rsdt)\n",
    "source_list_abrupt4xCO2_2 = list(source_set_abrupt4xCO2_2)\n",
    "print(len(source_list_abrupt4xCO2_2))"
   ]
  },
  {
   "cell_type": "code",
   "execution_count": 9,
   "id": "6bf1773c-4191-4832-8729-b96cafd6a2cc",
   "metadata": {},
   "outputs": [],
   "source": [
    "#remove models\n",
    "model_list = [ 'CMCC-CM2-SR5',\n",
    "               'MPI-ESM-1-2-HAM',\n",
    "               'EC-Earth3-AerChem',\n",
    "               'FGOALS-g3',\n",
    "               'IITM-ESM',\n",
    "               'CIESM',\n",
    "               'CAS-ESM2-0']\n"
   ]
  },
  {
   "cell_type": "code",
   "execution_count": 10,
   "id": "18f353eb-a8ec-4767-940d-b26ac20ab0c9",
   "metadata": {},
   "outputs": [
    {
     "name": "stdout",
     "output_type": "stream",
     "text": [
      "35\n",
      "['GISS-E2-1-H', 'FGOALS-f3-L', 'ACCESS-ESM1-5', 'GISS-E2-1-G', 'E3SM-1-0', 'GFDL-CM4', 'BCC-ESM1', 'NorESM2-MM', 'KIOST-ESM', 'NESM3', 'FIO-ESM-2-0', 'ACCESS-CM2', 'CESM2-WACCM', 'MIROC6', 'CESM2', 'CESM2-WACCM-FV2', 'CanESM5', 'INM-CM5-0', 'BCC-CSM2-MR', 'CMCC-ESM2', 'TaiESM1', 'MRI-ESM2-0', 'INM-CM4-8', 'MPI-ESM1-2-LR', 'KACE-1-0-G', 'SAM0-UNICON', 'GISS-E2-2-G', 'NorCPM1', 'MPI-ESM1-2-HR', 'IPSL-CM6A-LR', 'CAMS-CSM1-0', 'CESM2-FV2', 'EC-Earth3-Veg', 'AWI-CM-1-1-MR', 'GFDL-ESM4']\n"
     ]
    }
   ],
   "source": [
    "for source in model_list:\n",
    "    if source in source_list_abrupt4xCO2_2:\n",
    "        source_list_abrupt4xCO2_2.remove(source)\n",
    "print(len(source_list_abrupt4xCO2_2))\n",
    "print(source_list_abrupt4xCO2_2)"
   ]
  },
  {
   "cell_type": "markdown",
   "id": "0f432297-9406-4715-a976-6fa85c90208a",
   "metadata": {},
   "source": [
    "### 1.1 Look at One Model"
   ]
  },
  {
   "cell_type": "code",
   "execution_count": 11,
   "id": "c65a67a9-22fd-4ec4-a048-a2cea5410084",
   "metadata": {},
   "outputs": [],
   "source": [
    "#query data\n"
   ]
  },
  {
   "cell_type": "code",
   "execution_count": null,
   "id": "bf8f7708-2c7b-4312-8fec-9edb749e6f20",
   "metadata": {},
   "outputs": [],
   "source": []
  }
 ],
 "metadata": {
  "kernelspec": {
   "display_name": "Python 3 (ipykernel)",
   "language": "python",
   "name": "python3"
  },
  "language_info": {
   "codemirror_mode": {
    "name": "ipython",
    "version": 3
   },
   "file_extension": ".py",
   "mimetype": "text/x-python",
   "name": "python",
   "nbconvert_exporter": "python",
   "pygments_lexer": "ipython3",
   "version": "3.12.4"
  }
 },
 "nbformat": 4,
 "nbformat_minor": 5
}
